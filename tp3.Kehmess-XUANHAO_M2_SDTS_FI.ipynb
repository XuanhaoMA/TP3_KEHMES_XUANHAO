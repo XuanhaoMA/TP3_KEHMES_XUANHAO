{
 "cells": [
  {
   "cell_type": "markdown",
   "id": "515d0afa",
   "metadata": {},
   "source": [
    "# RAPPORT tp3\n",
    "\n",
    "## encadré par:\n",
    "### - Amir Nakib\n",
    "### - Fekhreddine Keddous\n",
    "## realiser par:  \n",
    "### - KEHMESS ahmed salem\n",
    "### - MA xuanhao\n",
    "\n",
    "- M2STDS"
   ]
  },
  {
   "cell_type": "markdown",
   "id": "7d1a18a0",
   "metadata": {},
   "source": [
    "# introduction\n",
    "Les  arbres  de  décision  sont  des  méthodes  d’apprentissage  non  paramétriques \n",
    "utilisées  pour  des  problèmes  de  classification  et  de  régression.  L’objectif  est  de \n",
    "créer  un  modèle  qui  prédit  les  valeurs  de  la  variable  cible,  en  se  basant  sur  un \n",
    "ensemble  de  séquences  de  règles  de  décision  déduites  à  partir  des  données \n",
    "d’apprentissage. L’arbre approxime donc la cible par une succession de règles if-\n",
    "then-else. Ce paradigme s’applique aussi bien à des données catégorielles qu’à des \n",
    "données  numériques.  Plus  l’arbre  généré  est  complexe,  mieux  le  modèle  « \n",
    "explique  »  les  donnés  d’apprentissage  mais  plus  le  risque  de  sur-apprentissage \n",
    "(over-fitting) est élevé.\n",
    "\n",
    "Les arbres de décision ont plusieurs avantages qui les rendent intéressants dans \n",
    "des contextesoù il est utile de comprendre la séquence de décisions prise par le \n",
    "modèle : \n",
    "\n",
    "- Ils sont simples à comprendre et à visualiser. \n",
    "- Ils nécessitent peu de préparation des données (normalisation, etc.). \n",
    "- Le coût d’utilisation des arbres est logarithmique. \n",
    "- Ils sont capables d’utiliser des données catégorielles et numériques. \n",
    "- Ils sont capables de traiter des problèmes multi-classe. \n",
    "- Modèle en boîte blanche : le résultat est facile à conceptualiser et à visualiser. \n",
    "#### Ces modèles présentent néanmoins deux désavantages majeurs : \n",
    "- Sur-apprentissage  :  parfois  les  arbres  générés  sont  trop  complexes  et \n",
    "    généralisent mal. Choisir des bonnes valeurs pour les paramètres profondeur \n",
    "    maximale (max_depth) et nombre minimal d’exemples par feuille \n",
    "    (min_samples_leaf) permet d’éviter ce problème. \n",
    "- Il peut arriver que les arbres générés ne soient pas équilibrés (ce qui implique \n",
    "    que le temps de parcours n’est plus logarithmique). Il est donc recommandé \n",
    "    d’ajuster la base de données avant la construction, pour éviter qu’une classe \n",
    "    domine largement les autres (en termes de nombre d’exemples \n",
    "    d’apprentissage)."
   ]
  },
  {
   "cell_type": "markdown",
   "id": "3c6baad4",
   "metadata": {},
   "source": []
  },
  {
   "cell_type": "code",
   "execution_count": 134,
   "id": "9533e009",
   "metadata": {},
   "outputs": [],
   "source": [
    "from sklearn import tree \n",
    "import pandas as pd\n",
    "import matplotlib.pyplot as plt"
   ]
  },
  {
   "cell_type": "code",
   "execution_count": 207,
   "id": "5a482722",
   "metadata": {},
   "outputs": [
    {
     "name": "stdout",
     "output_type": "stream",
     "text": [
      "      vhigh vhigh.1      2   2.1  small   low  unacc\n",
      "0     vhigh   vhigh      2     2  small   med  unacc\n",
      "1     vhigh   vhigh      2     2  small  high  unacc\n",
      "2     vhigh   vhigh      2     2    med   low  unacc\n",
      "3     vhigh   vhigh      2     2    med   med  unacc\n",
      "4     vhigh   vhigh      2     2    med  high  unacc\n",
      "...     ...     ...    ...   ...    ...   ...    ...\n",
      "1722    low     low  5more  more    med   med   good\n",
      "1723    low     low  5more  more    med  high  vgood\n",
      "1724    low     low  5more  more    big   low  unacc\n",
      "1725    low     low  5more  more    big   med   good\n",
      "1726    low     low  5more  more    big  high  vgood\n",
      "\n",
      "[1727 rows x 7 columns]\n"
     ]
    }
   ],
   "source": [
    "\n",
    "\n",
    "df = pd.read_csv ('car.csv')\n",
    "print (df)"
   ]
  },
  {
   "cell_type": "code",
   "execution_count": 208,
   "id": "c07d7df0",
   "metadata": {},
   "outputs": [],
   "source": [
    "df.columns =['buying', 'maint','doors','persons','lug_boot','safety','Class Values']"
   ]
  },
  {
   "cell_type": "code",
   "execution_count": 209,
   "id": "9467cd4c",
   "metadata": {},
   "outputs": [
    {
     "data": {
      "text/html": [
       "<div>\n",
       "<style scoped>\n",
       "    .dataframe tbody tr th:only-of-type {\n",
       "        vertical-align: middle;\n",
       "    }\n",
       "\n",
       "    .dataframe tbody tr th {\n",
       "        vertical-align: top;\n",
       "    }\n",
       "\n",
       "    .dataframe thead th {\n",
       "        text-align: right;\n",
       "    }\n",
       "</style>\n",
       "<table border=\"1\" class=\"dataframe\">\n",
       "  <thead>\n",
       "    <tr style=\"text-align: right;\">\n",
       "      <th></th>\n",
       "      <th>buying</th>\n",
       "      <th>maint</th>\n",
       "      <th>doors</th>\n",
       "      <th>persons</th>\n",
       "      <th>lug_boot</th>\n",
       "      <th>safety</th>\n",
       "      <th>Class Values</th>\n",
       "    </tr>\n",
       "  </thead>\n",
       "  <tbody>\n",
       "    <tr>\n",
       "      <th>0</th>\n",
       "      <td>vhigh</td>\n",
       "      <td>vhigh</td>\n",
       "      <td>2</td>\n",
       "      <td>2</td>\n",
       "      <td>small</td>\n",
       "      <td>med</td>\n",
       "      <td>unacc</td>\n",
       "    </tr>\n",
       "    <tr>\n",
       "      <th>1</th>\n",
       "      <td>vhigh</td>\n",
       "      <td>vhigh</td>\n",
       "      <td>2</td>\n",
       "      <td>2</td>\n",
       "      <td>small</td>\n",
       "      <td>high</td>\n",
       "      <td>unacc</td>\n",
       "    </tr>\n",
       "    <tr>\n",
       "      <th>2</th>\n",
       "      <td>vhigh</td>\n",
       "      <td>vhigh</td>\n",
       "      <td>2</td>\n",
       "      <td>2</td>\n",
       "      <td>med</td>\n",
       "      <td>low</td>\n",
       "      <td>unacc</td>\n",
       "    </tr>\n",
       "    <tr>\n",
       "      <th>3</th>\n",
       "      <td>vhigh</td>\n",
       "      <td>vhigh</td>\n",
       "      <td>2</td>\n",
       "      <td>2</td>\n",
       "      <td>med</td>\n",
       "      <td>med</td>\n",
       "      <td>unacc</td>\n",
       "    </tr>\n",
       "    <tr>\n",
       "      <th>4</th>\n",
       "      <td>vhigh</td>\n",
       "      <td>vhigh</td>\n",
       "      <td>2</td>\n",
       "      <td>2</td>\n",
       "      <td>med</td>\n",
       "      <td>high</td>\n",
       "      <td>unacc</td>\n",
       "    </tr>\n",
       "    <tr>\n",
       "      <th>...</th>\n",
       "      <td>...</td>\n",
       "      <td>...</td>\n",
       "      <td>...</td>\n",
       "      <td>...</td>\n",
       "      <td>...</td>\n",
       "      <td>...</td>\n",
       "      <td>...</td>\n",
       "    </tr>\n",
       "    <tr>\n",
       "      <th>1722</th>\n",
       "      <td>low</td>\n",
       "      <td>low</td>\n",
       "      <td>5more</td>\n",
       "      <td>more</td>\n",
       "      <td>med</td>\n",
       "      <td>med</td>\n",
       "      <td>good</td>\n",
       "    </tr>\n",
       "    <tr>\n",
       "      <th>1723</th>\n",
       "      <td>low</td>\n",
       "      <td>low</td>\n",
       "      <td>5more</td>\n",
       "      <td>more</td>\n",
       "      <td>med</td>\n",
       "      <td>high</td>\n",
       "      <td>vgood</td>\n",
       "    </tr>\n",
       "    <tr>\n",
       "      <th>1724</th>\n",
       "      <td>low</td>\n",
       "      <td>low</td>\n",
       "      <td>5more</td>\n",
       "      <td>more</td>\n",
       "      <td>big</td>\n",
       "      <td>low</td>\n",
       "      <td>unacc</td>\n",
       "    </tr>\n",
       "    <tr>\n",
       "      <th>1725</th>\n",
       "      <td>low</td>\n",
       "      <td>low</td>\n",
       "      <td>5more</td>\n",
       "      <td>more</td>\n",
       "      <td>big</td>\n",
       "      <td>med</td>\n",
       "      <td>good</td>\n",
       "    </tr>\n",
       "    <tr>\n",
       "      <th>1726</th>\n",
       "      <td>low</td>\n",
       "      <td>low</td>\n",
       "      <td>5more</td>\n",
       "      <td>more</td>\n",
       "      <td>big</td>\n",
       "      <td>high</td>\n",
       "      <td>vgood</td>\n",
       "    </tr>\n",
       "  </tbody>\n",
       "</table>\n",
       "<p>1727 rows × 7 columns</p>\n",
       "</div>"
      ],
      "text/plain": [
       "     buying  maint  doors persons lug_boot safety Class Values\n",
       "0     vhigh  vhigh      2       2    small    med        unacc\n",
       "1     vhigh  vhigh      2       2    small   high        unacc\n",
       "2     vhigh  vhigh      2       2      med    low        unacc\n",
       "3     vhigh  vhigh      2       2      med    med        unacc\n",
       "4     vhigh  vhigh      2       2      med   high        unacc\n",
       "...     ...    ...    ...     ...      ...    ...          ...\n",
       "1722    low    low  5more    more      med    med         good\n",
       "1723    low    low  5more    more      med   high        vgood\n",
       "1724    low    low  5more    more      big    low        unacc\n",
       "1725    low    low  5more    more      big    med         good\n",
       "1726    low    low  5more    more      big   high        vgood\n",
       "\n",
       "[1727 rows x 7 columns]"
      ]
     },
     "execution_count": 209,
     "metadata": {},
     "output_type": "execute_result"
    }
   ],
   "source": [
    "df"
   ]
  },
  {
   "cell_type": "code",
   "execution_count": 210,
   "id": "24d95914",
   "metadata": {},
   "outputs": [],
   "source": [
    "car_data = pd.DataFrame(df, columns = ['buying', 'maint','doors','persons','lug_boot','safety'])"
   ]
  },
  {
   "cell_type": "code",
   "execution_count": 211,
   "id": "c78430de",
   "metadata": {},
   "outputs": [
    {
     "data": {
      "text/html": [
       "<div>\n",
       "<style scoped>\n",
       "    .dataframe tbody tr th:only-of-type {\n",
       "        vertical-align: middle;\n",
       "    }\n",
       "\n",
       "    .dataframe tbody tr th {\n",
       "        vertical-align: top;\n",
       "    }\n",
       "\n",
       "    .dataframe thead th {\n",
       "        text-align: right;\n",
       "    }\n",
       "</style>\n",
       "<table border=\"1\" class=\"dataframe\">\n",
       "  <thead>\n",
       "    <tr style=\"text-align: right;\">\n",
       "      <th></th>\n",
       "      <th>buying</th>\n",
       "      <th>maint</th>\n",
       "      <th>doors</th>\n",
       "      <th>persons</th>\n",
       "      <th>lug_boot</th>\n",
       "      <th>safety</th>\n",
       "    </tr>\n",
       "  </thead>\n",
       "  <tbody>\n",
       "    <tr>\n",
       "      <th>0</th>\n",
       "      <td>vhigh</td>\n",
       "      <td>vhigh</td>\n",
       "      <td>2</td>\n",
       "      <td>2</td>\n",
       "      <td>small</td>\n",
       "      <td>med</td>\n",
       "    </tr>\n",
       "    <tr>\n",
       "      <th>1</th>\n",
       "      <td>vhigh</td>\n",
       "      <td>vhigh</td>\n",
       "      <td>2</td>\n",
       "      <td>2</td>\n",
       "      <td>small</td>\n",
       "      <td>high</td>\n",
       "    </tr>\n",
       "    <tr>\n",
       "      <th>2</th>\n",
       "      <td>vhigh</td>\n",
       "      <td>vhigh</td>\n",
       "      <td>2</td>\n",
       "      <td>2</td>\n",
       "      <td>med</td>\n",
       "      <td>low</td>\n",
       "    </tr>\n",
       "    <tr>\n",
       "      <th>3</th>\n",
       "      <td>vhigh</td>\n",
       "      <td>vhigh</td>\n",
       "      <td>2</td>\n",
       "      <td>2</td>\n",
       "      <td>med</td>\n",
       "      <td>med</td>\n",
       "    </tr>\n",
       "    <tr>\n",
       "      <th>4</th>\n",
       "      <td>vhigh</td>\n",
       "      <td>vhigh</td>\n",
       "      <td>2</td>\n",
       "      <td>2</td>\n",
       "      <td>med</td>\n",
       "      <td>high</td>\n",
       "    </tr>\n",
       "    <tr>\n",
       "      <th>...</th>\n",
       "      <td>...</td>\n",
       "      <td>...</td>\n",
       "      <td>...</td>\n",
       "      <td>...</td>\n",
       "      <td>...</td>\n",
       "      <td>...</td>\n",
       "    </tr>\n",
       "    <tr>\n",
       "      <th>1722</th>\n",
       "      <td>low</td>\n",
       "      <td>low</td>\n",
       "      <td>5more</td>\n",
       "      <td>more</td>\n",
       "      <td>med</td>\n",
       "      <td>med</td>\n",
       "    </tr>\n",
       "    <tr>\n",
       "      <th>1723</th>\n",
       "      <td>low</td>\n",
       "      <td>low</td>\n",
       "      <td>5more</td>\n",
       "      <td>more</td>\n",
       "      <td>med</td>\n",
       "      <td>high</td>\n",
       "    </tr>\n",
       "    <tr>\n",
       "      <th>1724</th>\n",
       "      <td>low</td>\n",
       "      <td>low</td>\n",
       "      <td>5more</td>\n",
       "      <td>more</td>\n",
       "      <td>big</td>\n",
       "      <td>low</td>\n",
       "    </tr>\n",
       "    <tr>\n",
       "      <th>1725</th>\n",
       "      <td>low</td>\n",
       "      <td>low</td>\n",
       "      <td>5more</td>\n",
       "      <td>more</td>\n",
       "      <td>big</td>\n",
       "      <td>med</td>\n",
       "    </tr>\n",
       "    <tr>\n",
       "      <th>1726</th>\n",
       "      <td>low</td>\n",
       "      <td>low</td>\n",
       "      <td>5more</td>\n",
       "      <td>more</td>\n",
       "      <td>big</td>\n",
       "      <td>high</td>\n",
       "    </tr>\n",
       "  </tbody>\n",
       "</table>\n",
       "<p>1727 rows × 6 columns</p>\n",
       "</div>"
      ],
      "text/plain": [
       "     buying  maint  doors persons lug_boot safety\n",
       "0     vhigh  vhigh      2       2    small    med\n",
       "1     vhigh  vhigh      2       2    small   high\n",
       "2     vhigh  vhigh      2       2      med    low\n",
       "3     vhigh  vhigh      2       2      med    med\n",
       "4     vhigh  vhigh      2       2      med   high\n",
       "...     ...    ...    ...     ...      ...    ...\n",
       "1722    low    low  5more    more      med    med\n",
       "1723    low    low  5more    more      med   high\n",
       "1724    low    low  5more    more      big    low\n",
       "1725    low    low  5more    more      big    med\n",
       "1726    low    low  5more    more      big   high\n",
       "\n",
       "[1727 rows x 6 columns]"
      ]
     },
     "execution_count": 211,
     "metadata": {},
     "output_type": "execute_result"
    }
   ],
   "source": [
    "car_data"
   ]
  },
  {
   "cell_type": "code",
   "execution_count": 212,
   "id": "6a00600e",
   "metadata": {},
   "outputs": [],
   "source": [
    "car_target1 = pd.DataFrame(df, columns = ['Class Values'])"
   ]
  },
  {
   "cell_type": "code",
   "execution_count": 213,
   "id": "d770805e",
   "metadata": {},
   "outputs": [
    {
     "data": {
      "text/html": [
       "<div>\n",
       "<style scoped>\n",
       "    .dataframe tbody tr th:only-of-type {\n",
       "        vertical-align: middle;\n",
       "    }\n",
       "\n",
       "    .dataframe tbody tr th {\n",
       "        vertical-align: top;\n",
       "    }\n",
       "\n",
       "    .dataframe thead th {\n",
       "        text-align: right;\n",
       "    }\n",
       "</style>\n",
       "<table border=\"1\" class=\"dataframe\">\n",
       "  <thead>\n",
       "    <tr style=\"text-align: right;\">\n",
       "      <th></th>\n",
       "      <th>Class Values</th>\n",
       "    </tr>\n",
       "  </thead>\n",
       "  <tbody>\n",
       "    <tr>\n",
       "      <th>0</th>\n",
       "      <td>unacc</td>\n",
       "    </tr>\n",
       "    <tr>\n",
       "      <th>1</th>\n",
       "      <td>unacc</td>\n",
       "    </tr>\n",
       "    <tr>\n",
       "      <th>2</th>\n",
       "      <td>unacc</td>\n",
       "    </tr>\n",
       "    <tr>\n",
       "      <th>3</th>\n",
       "      <td>unacc</td>\n",
       "    </tr>\n",
       "    <tr>\n",
       "      <th>4</th>\n",
       "      <td>unacc</td>\n",
       "    </tr>\n",
       "    <tr>\n",
       "      <th>...</th>\n",
       "      <td>...</td>\n",
       "    </tr>\n",
       "    <tr>\n",
       "      <th>1722</th>\n",
       "      <td>good</td>\n",
       "    </tr>\n",
       "    <tr>\n",
       "      <th>1723</th>\n",
       "      <td>vgood</td>\n",
       "    </tr>\n",
       "    <tr>\n",
       "      <th>1724</th>\n",
       "      <td>unacc</td>\n",
       "    </tr>\n",
       "    <tr>\n",
       "      <th>1725</th>\n",
       "      <td>good</td>\n",
       "    </tr>\n",
       "    <tr>\n",
       "      <th>1726</th>\n",
       "      <td>vgood</td>\n",
       "    </tr>\n",
       "  </tbody>\n",
       "</table>\n",
       "<p>1727 rows × 1 columns</p>\n",
       "</div>"
      ],
      "text/plain": [
       "     Class Values\n",
       "0           unacc\n",
       "1           unacc\n",
       "2           unacc\n",
       "3           unacc\n",
       "4           unacc\n",
       "...           ...\n",
       "1722         good\n",
       "1723        vgood\n",
       "1724        unacc\n",
       "1725         good\n",
       "1726        vgood\n",
       "\n",
       "[1727 rows x 1 columns]"
      ]
     },
     "execution_count": 213,
     "metadata": {},
     "output_type": "execute_result"
    }
   ],
   "source": [
    "car_target1"
   ]
  },
  {
   "cell_type": "markdown",
   "id": "55b3ccc0",
   "metadata": {},
   "source": [
    "# Classification des données CAR:\n",
    "\n",
    "# converssion de data set:\n",
    "pour modifier les valeurs pour chaque attribut en valeur numerique;\n",
    "\n",
    "##### 'Class Values':\n",
    "unacc, acc, good, vgood = 1,2,3,4\n",
    "###### buying: \n",
    "vhigh, high, med, low. = 4,3,2,1\n",
    "###### maint: \n",
    "vhigh, high, med, low. = 4,3,2,1\n",
    "###### doors: \n",
    "2, 3, 4, 5more. = 2, 4, 5\n",
    "###### persons: \n",
    "2, 4, more. = 2, 4, 5\n",
    "###### lug_boot: \n",
    "small, med, big. = 1, 2,3\n",
    "###### safety: \n",
    "low, med, high. = 1, 2,3"
   ]
  },
  {
   "cell_type": "code",
   "execution_count": 214,
   "id": "1befbe93",
   "metadata": {},
   "outputs": [],
   "source": [
    "car_data['buying']=car_data['buying'].map({'vhigh':4, 'high':3, 'med':2, 'low':1})"
   ]
  },
  {
   "cell_type": "code",
   "execution_count": 215,
   "id": "0ef2414f",
   "metadata": {},
   "outputs": [],
   "source": [
    "car_data['maint']= car_data['maint'].map({'vhigh':4, 'high':3, 'med':2, 'low':1})"
   ]
  },
  {
   "cell_type": "code",
   "execution_count": 216,
   "id": "7dec4e3b",
   "metadata": {},
   "outputs": [],
   "source": [
    "car_data['lug_boot']= car_data['lug_boot'].map({'small':1, 'med':2, 'big':3})"
   ]
  },
  {
   "cell_type": "code",
   "execution_count": 217,
   "id": "dad3e0a9",
   "metadata": {},
   "outputs": [],
   "source": [
    "car_data['safety']= car_data['safety'].map({'low':1, 'med':2, 'high':3})"
   ]
  },
  {
   "cell_type": "code",
   "execution_count": 218,
   "id": "04cc2a69",
   "metadata": {},
   "outputs": [],
   "source": [
    "car_data['doors']= car_data['doors'].map({'2':2,'3': 3,'4': 4,'5more':5})"
   ]
  },
  {
   "cell_type": "code",
   "execution_count": 219,
   "id": "80c66a06",
   "metadata": {},
   "outputs": [],
   "source": [
    "car_data['persons']= car_data['persons'].map({'2':2,'4':4,'more':5})"
   ]
  },
  {
   "cell_type": "code",
   "execution_count": 220,
   "id": "6e105650",
   "metadata": {},
   "outputs": [
    {
     "data": {
      "text/html": [
       "<div>\n",
       "<style scoped>\n",
       "    .dataframe tbody tr th:only-of-type {\n",
       "        vertical-align: middle;\n",
       "    }\n",
       "\n",
       "    .dataframe tbody tr th {\n",
       "        vertical-align: top;\n",
       "    }\n",
       "\n",
       "    .dataframe thead th {\n",
       "        text-align: right;\n",
       "    }\n",
       "</style>\n",
       "<table border=\"1\" class=\"dataframe\">\n",
       "  <thead>\n",
       "    <tr style=\"text-align: right;\">\n",
       "      <th></th>\n",
       "      <th>buying</th>\n",
       "      <th>maint</th>\n",
       "      <th>doors</th>\n",
       "      <th>persons</th>\n",
       "      <th>lug_boot</th>\n",
       "      <th>safety</th>\n",
       "    </tr>\n",
       "  </thead>\n",
       "  <tbody>\n",
       "    <tr>\n",
       "      <th>0</th>\n",
       "      <td>4</td>\n",
       "      <td>4</td>\n",
       "      <td>2</td>\n",
       "      <td>2</td>\n",
       "      <td>1</td>\n",
       "      <td>2</td>\n",
       "    </tr>\n",
       "    <tr>\n",
       "      <th>1</th>\n",
       "      <td>4</td>\n",
       "      <td>4</td>\n",
       "      <td>2</td>\n",
       "      <td>2</td>\n",
       "      <td>1</td>\n",
       "      <td>3</td>\n",
       "    </tr>\n",
       "    <tr>\n",
       "      <th>2</th>\n",
       "      <td>4</td>\n",
       "      <td>4</td>\n",
       "      <td>2</td>\n",
       "      <td>2</td>\n",
       "      <td>2</td>\n",
       "      <td>1</td>\n",
       "    </tr>\n",
       "    <tr>\n",
       "      <th>3</th>\n",
       "      <td>4</td>\n",
       "      <td>4</td>\n",
       "      <td>2</td>\n",
       "      <td>2</td>\n",
       "      <td>2</td>\n",
       "      <td>2</td>\n",
       "    </tr>\n",
       "    <tr>\n",
       "      <th>4</th>\n",
       "      <td>4</td>\n",
       "      <td>4</td>\n",
       "      <td>2</td>\n",
       "      <td>2</td>\n",
       "      <td>2</td>\n",
       "      <td>3</td>\n",
       "    </tr>\n",
       "    <tr>\n",
       "      <th>...</th>\n",
       "      <td>...</td>\n",
       "      <td>...</td>\n",
       "      <td>...</td>\n",
       "      <td>...</td>\n",
       "      <td>...</td>\n",
       "      <td>...</td>\n",
       "    </tr>\n",
       "    <tr>\n",
       "      <th>1722</th>\n",
       "      <td>1</td>\n",
       "      <td>1</td>\n",
       "      <td>5</td>\n",
       "      <td>5</td>\n",
       "      <td>2</td>\n",
       "      <td>2</td>\n",
       "    </tr>\n",
       "    <tr>\n",
       "      <th>1723</th>\n",
       "      <td>1</td>\n",
       "      <td>1</td>\n",
       "      <td>5</td>\n",
       "      <td>5</td>\n",
       "      <td>2</td>\n",
       "      <td>3</td>\n",
       "    </tr>\n",
       "    <tr>\n",
       "      <th>1724</th>\n",
       "      <td>1</td>\n",
       "      <td>1</td>\n",
       "      <td>5</td>\n",
       "      <td>5</td>\n",
       "      <td>3</td>\n",
       "      <td>1</td>\n",
       "    </tr>\n",
       "    <tr>\n",
       "      <th>1725</th>\n",
       "      <td>1</td>\n",
       "      <td>1</td>\n",
       "      <td>5</td>\n",
       "      <td>5</td>\n",
       "      <td>3</td>\n",
       "      <td>2</td>\n",
       "    </tr>\n",
       "    <tr>\n",
       "      <th>1726</th>\n",
       "      <td>1</td>\n",
       "      <td>1</td>\n",
       "      <td>5</td>\n",
       "      <td>5</td>\n",
       "      <td>3</td>\n",
       "      <td>3</td>\n",
       "    </tr>\n",
       "  </tbody>\n",
       "</table>\n",
       "<p>1727 rows × 6 columns</p>\n",
       "</div>"
      ],
      "text/plain": [
       "      buying  maint  doors  persons  lug_boot  safety\n",
       "0          4      4      2        2         1       2\n",
       "1          4      4      2        2         1       3\n",
       "2          4      4      2        2         2       1\n",
       "3          4      4      2        2         2       2\n",
       "4          4      4      2        2         2       3\n",
       "...      ...    ...    ...      ...       ...     ...\n",
       "1722       1      1      5        5         2       2\n",
       "1723       1      1      5        5         2       3\n",
       "1724       1      1      5        5         3       1\n",
       "1725       1      1      5        5         3       2\n",
       "1726       1      1      5        5         3       3\n",
       "\n",
       "[1727 rows x 6 columns]"
      ]
     },
     "execution_count": 220,
     "metadata": {},
     "output_type": "execute_result"
    }
   ],
   "source": [
    "car_data"
   ]
  },
  {
   "cell_type": "code",
   "execution_count": 221,
   "id": "fa3774c2",
   "metadata": {},
   "outputs": [],
   "source": [
    "car_target['Class Values']=car_target1['Class Values'].map({'unacc':1, 'acc':2, 'good':3, 'vgood':4 })"
   ]
  },
  {
   "cell_type": "code",
   "execution_count": 222,
   "id": "183203db",
   "metadata": {},
   "outputs": [
    {
     "data": {
      "text/html": [
       "<div>\n",
       "<style scoped>\n",
       "    .dataframe tbody tr th:only-of-type {\n",
       "        vertical-align: middle;\n",
       "    }\n",
       "\n",
       "    .dataframe tbody tr th {\n",
       "        vertical-align: top;\n",
       "    }\n",
       "\n",
       "    .dataframe thead th {\n",
       "        text-align: right;\n",
       "    }\n",
       "</style>\n",
       "<table border=\"1\" class=\"dataframe\">\n",
       "  <thead>\n",
       "    <tr style=\"text-align: right;\">\n",
       "      <th></th>\n",
       "      <th>Class Values</th>\n",
       "    </tr>\n",
       "  </thead>\n",
       "  <tbody>\n",
       "    <tr>\n",
       "      <th>0</th>\n",
       "      <td>1</td>\n",
       "    </tr>\n",
       "    <tr>\n",
       "      <th>1</th>\n",
       "      <td>1</td>\n",
       "    </tr>\n",
       "    <tr>\n",
       "      <th>2</th>\n",
       "      <td>1</td>\n",
       "    </tr>\n",
       "    <tr>\n",
       "      <th>3</th>\n",
       "      <td>1</td>\n",
       "    </tr>\n",
       "    <tr>\n",
       "      <th>4</th>\n",
       "      <td>1</td>\n",
       "    </tr>\n",
       "    <tr>\n",
       "      <th>...</th>\n",
       "      <td>...</td>\n",
       "    </tr>\n",
       "    <tr>\n",
       "      <th>1722</th>\n",
       "      <td>3</td>\n",
       "    </tr>\n",
       "    <tr>\n",
       "      <th>1723</th>\n",
       "      <td>4</td>\n",
       "    </tr>\n",
       "    <tr>\n",
       "      <th>1724</th>\n",
       "      <td>1</td>\n",
       "    </tr>\n",
       "    <tr>\n",
       "      <th>1725</th>\n",
       "      <td>3</td>\n",
       "    </tr>\n",
       "    <tr>\n",
       "      <th>1726</th>\n",
       "      <td>4</td>\n",
       "    </tr>\n",
       "  </tbody>\n",
       "</table>\n",
       "<p>1727 rows × 1 columns</p>\n",
       "</div>"
      ],
      "text/plain": [
       "      Class Values\n",
       "0                1\n",
       "1                1\n",
       "2                1\n",
       "3                1\n",
       "4                1\n",
       "...            ...\n",
       "1722             3\n",
       "1723             4\n",
       "1724             1\n",
       "1725             3\n",
       "1726             4\n",
       "\n",
       "[1727 rows x 1 columns]"
      ]
     },
     "execution_count": 222,
     "metadata": {},
     "output_type": "execute_result"
    }
   ],
   "source": [
    "car_target"
   ]
  },
  {
   "cell_type": "markdown",
   "id": "ebdcf3f6",
   "metadata": {},
   "source": [
    "#### Calculer les statistiques (moyenne et écart-type) des variables "
   ]
  },
  {
   "cell_type": "code",
   "execution_count": 128,
   "id": "d8dd9224",
   "metadata": {},
   "outputs": [
    {
     "name": "stdout",
     "output_type": "stream",
     "text": [
      "__________________________\n",
      "moyen et écart-type buying\n",
      "moyen =  2.499131441806601\n",
      "écart-type =  1.1177746672791624\n",
      "__________________________\n",
      "moyen et écart-type maint\n",
      "moyen =  2.499131441806601\n",
      "écart-type =  1.1177746672791613\n",
      "__________________________\n",
      "moyen et écart-type doors\n",
      "moyen =  3.500868558193399\n",
      "écart-type =  1.1177746672791624\n",
      "__________________________\n",
      "moyen et écart-type persons\n",
      "moyen =  3.667631731325999\n",
      "écart-type =  1.2469350063745335\n",
      "__________________________\n",
      "moyen et écart-type lug_boot\n",
      "moyen =  2.0005790387955993\n",
      "écart-type =  0.8163781712226682\n",
      "__________________________\n",
      "moyen et écart-type safety\n",
      "moyen =  2.0005790387955993\n",
      "écart-type =  0.8163781712226681\n"
     ]
    }
   ],
   "source": [
    "import numpy as np\n",
    "for i in car_data.columns:\n",
    "    print('__________________________')\n",
    "    print('moyen et écart-type '+ i )\n",
    "    print('moyen = ' ,np.mean(car_data[i]))\n",
    "    print('écart-type = ' ,np.std(car_data[i]))"
   ]
  },
  {
   "cell_type": "markdown",
   "id": "eb1ce0b8",
   "metadata": {},
   "source": [
    "#### Combien y a-t-il d’exemples de chaque classe ?"
   ]
  },
  {
   "cell_type": "code",
   "execution_count": 129,
   "id": "8cfb223d",
   "metadata": {},
   "outputs": [
    {
     "name": "stdout",
     "output_type": "stream",
     "text": [
      "[1209  384   69   65]\n"
     ]
    }
   ],
   "source": [
    "bb,cc=np.unique(car_target,return_counts=True)\n",
    "print(cc)\n",
    "    "
   ]
  },
  {
   "cell_type": "markdown",
   "id": "a64de2a4",
   "metadata": {},
   "source": [
    "##### le nombre d'exemple dans chaque classe:\n",
    "unacc = 1209; \n",
    "acc = 384 ; \n",
    "good = 69 ; \n",
    "vgood = 65  "
   ]
  },
  {
   "cell_type": "markdown",
   "id": "382d38e1",
   "metadata": {},
   "source": [
    "Avant de construire le modèle, séparons le jeu de données en deux : 70% pour \n",
    "l’apprentissage, 30% pour le test."
   ]
  },
  {
   "cell_type": "code",
   "execution_count": 131,
   "id": "3e1a8e37",
   "metadata": {},
   "outputs": [],
   "source": [
    "from sklearn.model_selection import train_test_split \n",
    "X_train,  X_test,  y_train,  y_test  =  train_test_split(car_data,  car_target,  train_size=0.7, \n",
    "random_state=0) "
   ]
  },
  {
   "cell_type": "markdown",
   "id": "aa453cc6",
   "metadata": {},
   "source": [
    "Nous pouvons désormais construire un arbre de décision sur ces données :"
   ]
  },
  {
   "cell_type": "code",
   "execution_count": 154,
   "id": "1f9fb35d",
   "metadata": {},
   "outputs": [
    {
     "data": {
      "text/html": [
       "<style>#sk-container-id-5 {color: black;background-color: white;}#sk-container-id-5 pre{padding: 0;}#sk-container-id-5 div.sk-toggleable {background-color: white;}#sk-container-id-5 label.sk-toggleable__label {cursor: pointer;display: block;width: 100%;margin-bottom: 0;padding: 0.3em;box-sizing: border-box;text-align: center;}#sk-container-id-5 label.sk-toggleable__label-arrow:before {content: \"▸\";float: left;margin-right: 0.25em;color: #696969;}#sk-container-id-5 label.sk-toggleable__label-arrow:hover:before {color: black;}#sk-container-id-5 div.sk-estimator:hover label.sk-toggleable__label-arrow:before {color: black;}#sk-container-id-5 div.sk-toggleable__content {max-height: 0;max-width: 0;overflow: hidden;text-align: left;background-color: #f0f8ff;}#sk-container-id-5 div.sk-toggleable__content pre {margin: 0.2em;color: black;border-radius: 0.25em;background-color: #f0f8ff;}#sk-container-id-5 input.sk-toggleable__control:checked~div.sk-toggleable__content {max-height: 200px;max-width: 100%;overflow: auto;}#sk-container-id-5 input.sk-toggleable__control:checked~label.sk-toggleable__label-arrow:before {content: \"▾\";}#sk-container-id-5 div.sk-estimator input.sk-toggleable__control:checked~label.sk-toggleable__label {background-color: #d4ebff;}#sk-container-id-5 div.sk-label input.sk-toggleable__control:checked~label.sk-toggleable__label {background-color: #d4ebff;}#sk-container-id-5 input.sk-hidden--visually {border: 0;clip: rect(1px 1px 1px 1px);clip: rect(1px, 1px, 1px, 1px);height: 1px;margin: -1px;overflow: hidden;padding: 0;position: absolute;width: 1px;}#sk-container-id-5 div.sk-estimator {font-family: monospace;background-color: #f0f8ff;border: 1px dotted black;border-radius: 0.25em;box-sizing: border-box;margin-bottom: 0.5em;}#sk-container-id-5 div.sk-estimator:hover {background-color: #d4ebff;}#sk-container-id-5 div.sk-parallel-item::after {content: \"\";width: 100%;border-bottom: 1px solid gray;flex-grow: 1;}#sk-container-id-5 div.sk-label:hover label.sk-toggleable__label {background-color: #d4ebff;}#sk-container-id-5 div.sk-serial::before {content: \"\";position: absolute;border-left: 1px solid gray;box-sizing: border-box;top: 0;bottom: 0;left: 50%;z-index: 0;}#sk-container-id-5 div.sk-serial {display: flex;flex-direction: column;align-items: center;background-color: white;padding-right: 0.2em;padding-left: 0.2em;position: relative;}#sk-container-id-5 div.sk-item {position: relative;z-index: 1;}#sk-container-id-5 div.sk-parallel {display: flex;align-items: stretch;justify-content: center;background-color: white;position: relative;}#sk-container-id-5 div.sk-item::before, #sk-container-id-5 div.sk-parallel-item::before {content: \"\";position: absolute;border-left: 1px solid gray;box-sizing: border-box;top: 0;bottom: 0;left: 50%;z-index: -1;}#sk-container-id-5 div.sk-parallel-item {display: flex;flex-direction: column;z-index: 1;position: relative;background-color: white;}#sk-container-id-5 div.sk-parallel-item:first-child::after {align-self: flex-end;width: 50%;}#sk-container-id-5 div.sk-parallel-item:last-child::after {align-self: flex-start;width: 50%;}#sk-container-id-5 div.sk-parallel-item:only-child::after {width: 0;}#sk-container-id-5 div.sk-dashed-wrapped {border: 1px dashed gray;margin: 0 0.4em 0.5em 0.4em;box-sizing: border-box;padding-bottom: 0.4em;background-color: white;}#sk-container-id-5 div.sk-label label {font-family: monospace;font-weight: bold;display: inline-block;line-height: 1.2em;}#sk-container-id-5 div.sk-label-container {text-align: center;}#sk-container-id-5 div.sk-container {/* jupyter's `normalize.less` sets `[hidden] { display: none; }` but bootstrap.min.css set `[hidden] { display: none !important; }` so we also need the `!important` here to be able to override the default hidden behavior on the sphinx rendered scikit-learn.org. See: https://github.com/scikit-learn/scikit-learn/issues/21755 */display: inline-block !important;position: relative;}#sk-container-id-5 div.sk-text-repr-fallback {display: none;}</style><div id=\"sk-container-id-5\" class=\"sk-top-container\"><div class=\"sk-text-repr-fallback\"><pre>DecisionTreeClassifier()</pre><b>In a Jupyter environment, please rerun this cell to show the HTML representation or trust the notebook. <br />On GitHub, the HTML representation is unable to render, please try loading this page with nbviewer.org.</b></div><div class=\"sk-container\" hidden><div class=\"sk-item\"><div class=\"sk-estimator sk-toggleable\"><input class=\"sk-toggleable__control sk-hidden--visually\" id=\"sk-estimator-id-5\" type=\"checkbox\" checked><label for=\"sk-estimator-id-5\" class=\"sk-toggleable__label sk-toggleable__label-arrow\">DecisionTreeClassifier</label><div class=\"sk-toggleable__content\"><pre>DecisionTreeClassifier()</pre></div></div></div></div></div>"
      ],
      "text/plain": [
       "DecisionTreeClassifier()"
      ]
     },
     "execution_count": 154,
     "metadata": {},
     "output_type": "execute_result"
    }
   ],
   "source": [
    "from sklearn import tree \n",
    "clf = tree.DecisionTreeClassifier() \n",
    "clf.fit(X_train, y_train)"
   ]
  },
  {
   "cell_type": "markdown",
   "id": "225b10ca",
   "metadata": {},
   "source": [
    "Une  fois  l’apprentissage  terminé,  nous  pouvons  visualiser  l’arbre,  soit  avec \n",
    "matplotlib en passant par la méthode plot_tree. Par exemple, avec matplotlib :"
   ]
  },
  {
   "cell_type": "code",
   "execution_count": 135,
   "id": "1d9e9e3c",
   "metadata": {},
   "outputs": [
    {
     "data": {
      "text/plain": [
       "[Text(0.6209821428571428, 0.9615384615384616, 'X[5] <= 1.5\\ngini = 0.452\\nsamples = 1208\\nvalue = [851, 268, 48, 41]'),\n",
       " Text(0.6066964285714286, 0.8846153846153846, 'gini = 0.0\\nsamples = 402\\nvalue = [402, 0, 0, 0]'),\n",
       " Text(0.6352678571428572, 0.8846153846153846, 'X[3] <= 3.0\\ngini = 0.573\\nsamples = 806\\nvalue = [449, 268, 48, 41]'),\n",
       " Text(0.6209821428571428, 0.8076923076923077, 'gini = 0.0\\nsamples = 265\\nvalue = [265, 0, 0, 0]'),\n",
       " Text(0.6495535714285714, 0.8076923076923077, 'X[0] <= 2.5\\ngini = 0.625\\nsamples = 541\\nvalue = [184, 268, 48, 41]'),\n",
       " Text(0.4133928571428571, 0.7307692307692307, 'X[1] <= 2.5\\ngini = 0.65\\nsamples = 264\\nvalue = [37, 138, 48, 41]'),\n",
       " Text(0.21607142857142858, 0.6538461538461539, 'X[5] <= 2.5\\ngini = 0.694\\nsamples = 130\\nvalue = [8, 43, 48, 31]'),\n",
       " Text(0.08571428571428572, 0.5769230769230769, 'X[4] <= 1.5\\ngini = 0.552\\nsamples = 69\\nvalue = [4, 34, 31, 0]'),\n",
       " Text(0.04285714285714286, 0.5, 'X[2] <= 2.5\\ngini = 0.278\\nsamples = 24\\nvalue = [4, 20, 0, 0]'),\n",
       " Text(0.02857142857142857, 0.4230769230769231, 'X[3] <= 4.5\\ngini = 0.5\\nsamples = 8\\nvalue = [4, 4, 0, 0]'),\n",
       " Text(0.014285714285714285, 0.34615384615384615, 'gini = 0.0\\nsamples = 4\\nvalue = [0, 4, 0, 0]'),\n",
       " Text(0.04285714285714286, 0.34615384615384615, 'gini = 0.0\\nsamples = 4\\nvalue = [4, 0, 0, 0]'),\n",
       " Text(0.05714285714285714, 0.4230769230769231, 'gini = 0.0\\nsamples = 16\\nvalue = [0, 16, 0, 0]'),\n",
       " Text(0.12857142857142856, 0.5, 'X[0] <= 1.5\\ngini = 0.429\\nsamples = 45\\nvalue = [0, 14, 31, 0]'),\n",
       " Text(0.08571428571428572, 0.4230769230769231, 'X[2] <= 3.5\\ngini = 0.165\\nsamples = 22\\nvalue = [0, 2, 20, 0]'),\n",
       " Text(0.07142857142857142, 0.34615384615384615, 'X[4] <= 2.5\\ngini = 0.32\\nsamples = 10\\nvalue = [0, 2, 8, 0]'),\n",
       " Text(0.05714285714285714, 0.2692307692307692, 'X[2] <= 2.5\\ngini = 0.444\\nsamples = 3\\nvalue = [0, 2, 1, 0]'),\n",
       " Text(0.04285714285714286, 0.19230769230769232, 'gini = 0.0\\nsamples = 1\\nvalue = [0, 1, 0, 0]'),\n",
       " Text(0.07142857142857142, 0.19230769230769232, 'X[3] <= 4.5\\ngini = 0.5\\nsamples = 2\\nvalue = [0, 1, 1, 0]'),\n",
       " Text(0.05714285714285714, 0.11538461538461539, 'gini = 0.0\\nsamples = 1\\nvalue = [0, 1, 0, 0]'),\n",
       " Text(0.08571428571428572, 0.11538461538461539, 'gini = 0.0\\nsamples = 1\\nvalue = [0, 0, 1, 0]'),\n",
       " Text(0.08571428571428572, 0.2692307692307692, 'gini = 0.0\\nsamples = 7\\nvalue = [0, 0, 7, 0]'),\n",
       " Text(0.1, 0.34615384615384615, 'gini = 0.0\\nsamples = 12\\nvalue = [0, 0, 12, 0]'),\n",
       " Text(0.17142857142857143, 0.4230769230769231, 'X[1] <= 1.5\\ngini = 0.499\\nsamples = 23\\nvalue = [0, 12, 11, 0]'),\n",
       " Text(0.15714285714285714, 0.34615384615384615, 'X[4] <= 2.5\\ngini = 0.26\\nsamples = 13\\nvalue = [0, 2, 11, 0]'),\n",
       " Text(0.14285714285714285, 0.2692307692307692, 'X[2] <= 3.5\\ngini = 0.444\\nsamples = 6\\nvalue = [0, 2, 4, 0]'),\n",
       " Text(0.12857142857142856, 0.19230769230769232, 'X[2] <= 2.5\\ngini = 0.444\\nsamples = 3\\nvalue = [0, 2, 1, 0]'),\n",
       " Text(0.11428571428571428, 0.11538461538461539, 'gini = 0.0\\nsamples = 1\\nvalue = [0, 1, 0, 0]'),\n",
       " Text(0.14285714285714285, 0.11538461538461539, 'X[3] <= 4.5\\ngini = 0.5\\nsamples = 2\\nvalue = [0, 1, 1, 0]'),\n",
       " Text(0.12857142857142856, 0.038461538461538464, 'gini = 0.0\\nsamples = 1\\nvalue = [0, 1, 0, 0]'),\n",
       " Text(0.15714285714285714, 0.038461538461538464, 'gini = 0.0\\nsamples = 1\\nvalue = [0, 0, 1, 0]'),\n",
       " Text(0.15714285714285714, 0.19230769230769232, 'gini = 0.0\\nsamples = 3\\nvalue = [0, 0, 3, 0]'),\n",
       " Text(0.17142857142857143, 0.2692307692307692, 'gini = 0.0\\nsamples = 7\\nvalue = [0, 0, 7, 0]'),\n",
       " Text(0.18571428571428572, 0.34615384615384615, 'gini = 0.0\\nsamples = 10\\nvalue = [0, 10, 0, 0]'),\n",
       " Text(0.3464285714285714, 0.5769230769230769, 'X[4] <= 1.5\\ngini = 0.638\\nsamples = 61\\nvalue = [4, 9, 17, 31]'),\n",
       " Text(0.2642857142857143, 0.5, 'X[1] <= 1.5\\ngini = 0.557\\nsamples = 25\\nvalue = [4, 6, 15, 0]'),\n",
       " Text(0.22857142857142856, 0.4230769230769231, 'X[2] <= 2.5\\ngini = 0.26\\nsamples = 13\\nvalue = [2, 0, 11, 0]'),\n",
       " Text(0.21428571428571427, 0.34615384615384615, 'X[3] <= 4.5\\ngini = 0.5\\nsamples = 4\\nvalue = [2, 0, 2, 0]'),\n",
       " Text(0.2, 0.2692307692307692, 'gini = 0.0\\nsamples = 2\\nvalue = [0, 0, 2, 0]'),\n",
       " Text(0.22857142857142856, 0.2692307692307692, 'gini = 0.0\\nsamples = 2\\nvalue = [2, 0, 0, 0]'),\n",
       " Text(0.24285714285714285, 0.34615384615384615, 'gini = 0.0\\nsamples = 9\\nvalue = [0, 0, 9, 0]'),\n",
       " Text(0.3, 0.4230769230769231, 'X[0] <= 1.5\\ngini = 0.611\\nsamples = 12\\nvalue = [2, 6, 4, 0]'),\n",
       " Text(0.2714285714285714, 0.34615384615384615, 'X[2] <= 2.5\\ngini = 0.32\\nsamples = 5\\nvalue = [1, 0, 4, 0]'),\n",
       " Text(0.2571428571428571, 0.2692307692307692, 'X[3] <= 4.5\\ngini = 0.5\\nsamples = 2\\nvalue = [1, 0, 1, 0]'),\n",
       " Text(0.24285714285714285, 0.19230769230769232, 'gini = 0.0\\nsamples = 1\\nvalue = [0, 0, 1, 0]'),\n",
       " Text(0.2714285714285714, 0.19230769230769232, 'gini = 0.0\\nsamples = 1\\nvalue = [1, 0, 0, 0]'),\n",
       " Text(0.2857142857142857, 0.2692307692307692, 'gini = 0.0\\nsamples = 3\\nvalue = [0, 0, 3, 0]'),\n",
       " Text(0.32857142857142857, 0.34615384615384615, 'X[2] <= 2.5\\ngini = 0.245\\nsamples = 7\\nvalue = [1, 6, 0, 0]'),\n",
       " Text(0.3142857142857143, 0.2692307692307692, 'X[3] <= 4.5\\ngini = 0.5\\nsamples = 2\\nvalue = [1, 1, 0, 0]'),\n",
       " Text(0.3, 0.19230769230769232, 'gini = 0.0\\nsamples = 1\\nvalue = [0, 1, 0, 0]'),\n",
       " Text(0.32857142857142857, 0.19230769230769232, 'gini = 0.0\\nsamples = 1\\nvalue = [1, 0, 0, 0]'),\n",
       " Text(0.34285714285714286, 0.2692307692307692, 'gini = 0.0\\nsamples = 5\\nvalue = [0, 5, 0, 0]'),\n",
       " Text(0.42857142857142855, 0.5, 'X[2] <= 3.5\\ngini = 0.248\\nsamples = 36\\nvalue = [0, 3, 2, 31]'),\n",
       " Text(0.4142857142857143, 0.4230769230769231, 'X[4] <= 2.5\\ngini = 0.457\\nsamples = 17\\nvalue = [0, 3, 2, 12]'),\n",
       " Text(0.4, 0.34615384615384615, 'X[3] <= 4.5\\ngini = 0.656\\nsamples = 8\\nvalue = [0, 3, 2, 3]'),\n",
       " Text(0.37142857142857144, 0.2692307692307692, 'X[1] <= 1.5\\ngini = 0.5\\nsamples = 4\\nvalue = [0, 2, 2, 0]'),\n",
       " Text(0.35714285714285715, 0.19230769230769232, 'gini = 0.0\\nsamples = 1\\nvalue = [0, 0, 1, 0]'),\n",
       " Text(0.38571428571428573, 0.19230769230769232, 'X[0] <= 1.5\\ngini = 0.444\\nsamples = 3\\nvalue = [0, 2, 1, 0]'),\n",
       " Text(0.37142857142857144, 0.11538461538461539, 'gini = 0.0\\nsamples = 1\\nvalue = [0, 0, 1, 0]'),\n",
       " Text(0.4, 0.11538461538461539, 'gini = 0.0\\nsamples = 2\\nvalue = [0, 2, 0, 0]'),\n",
       " Text(0.42857142857142855, 0.2692307692307692, 'X[2] <= 2.5\\ngini = 0.375\\nsamples = 4\\nvalue = [0, 1, 0, 3]'),\n",
       " Text(0.4142857142857143, 0.19230769230769232, 'gini = 0.0\\nsamples = 1\\nvalue = [0, 1, 0, 0]'),\n",
       " Text(0.44285714285714284, 0.19230769230769232, 'gini = 0.0\\nsamples = 3\\nvalue = [0, 0, 0, 3]'),\n",
       " Text(0.42857142857142855, 0.34615384615384615, 'gini = 0.0\\nsamples = 9\\nvalue = [0, 0, 0, 9]'),\n",
       " Text(0.44285714285714284, 0.4230769230769231, 'gini = 0.0\\nsamples = 19\\nvalue = [0, 0, 0, 19]'),\n",
       " Text(0.6107142857142858, 0.6538461538461539, 'X[5] <= 2.5\\ngini = 0.445\\nsamples = 134\\nvalue = [29, 95, 0, 10]'),\n",
       " Text(0.5285714285714286, 0.5769230769230769, 'X[4] <= 2.5\\ngini = 0.476\\nsamples = 69\\nvalue = [27, 42, 0, 0]'),\n",
       " Text(0.5142857142857142, 0.5, 'X[2] <= 2.5\\ngini = 0.474\\nsamples = 44\\nvalue = [27, 17, 0, 0]'),\n",
       " Text(0.5, 0.4230769230769231, 'gini = 0.0\\nsamples = 12\\nvalue = [12, 0, 0, 0]'),\n",
       " Text(0.5285714285714286, 0.4230769230769231, 'X[4] <= 1.5\\ngini = 0.498\\nsamples = 32\\nvalue = [15, 17, 0, 0]'),\n",
       " Text(0.5, 0.34615384615384615, 'X[0] <= 1.5\\ngini = 0.415\\nsamples = 17\\nvalue = [12, 5, 0, 0]'),\n",
       " Text(0.4857142857142857, 0.2692307692307692, 'X[1] <= 3.5\\ngini = 0.469\\nsamples = 8\\nvalue = [3, 5, 0, 0]'),\n",
       " Text(0.4714285714285714, 0.19230769230769232, 'gini = 0.0\\nsamples = 5\\nvalue = [0, 5, 0, 0]'),\n",
       " Text(0.5, 0.19230769230769232, 'gini = 0.0\\nsamples = 3\\nvalue = [3, 0, 0, 0]'),\n",
       " Text(0.5142857142857142, 0.2692307692307692, 'gini = 0.0\\nsamples = 9\\nvalue = [9, 0, 0, 0]'),\n",
       " Text(0.5571428571428572, 0.34615384615384615, 'X[2] <= 3.5\\ngini = 0.32\\nsamples = 15\\nvalue = [3, 12, 0, 0]'),\n",
       " Text(0.5428571428571428, 0.2692307692307692, 'X[3] <= 4.5\\ngini = 0.5\\nsamples = 6\\nvalue = [3, 3, 0, 0]'),\n",
       " Text(0.5285714285714286, 0.19230769230769232, 'gini = 0.0\\nsamples = 3\\nvalue = [3, 0, 0, 0]'),\n",
       " Text(0.5571428571428572, 0.19230769230769232, 'gini = 0.0\\nsamples = 3\\nvalue = [0, 3, 0, 0]'),\n",
       " Text(0.5714285714285714, 0.2692307692307692, 'gini = 0.0\\nsamples = 9\\nvalue = [0, 9, 0, 0]'),\n",
       " Text(0.5428571428571428, 0.5, 'gini = 0.0\\nsamples = 25\\nvalue = [0, 25, 0, 0]'),\n",
       " Text(0.6928571428571428, 0.5769230769230769, 'X[0] <= 1.5\\ngini = 0.311\\nsamples = 65\\nvalue = [2, 53, 0, 10]'),\n",
       " Text(0.6571428571428571, 0.5, 'X[1] <= 3.5\\ngini = 0.463\\nsamples = 33\\nvalue = [1, 22, 0, 10]'),\n",
       " Text(0.6428571428571429, 0.4230769230769231, 'X[4] <= 2.5\\ngini = 0.543\\nsamples = 19\\nvalue = [1, 8, 0, 10]'),\n",
       " Text(0.6285714285714286, 0.34615384615384615, 'X[4] <= 1.5\\ngini = 0.486\\nsamples = 12\\nvalue = [1, 8, 0, 3]'),\n",
       " Text(0.6, 0.2692307692307692, 'X[3] <= 4.5\\ngini = 0.278\\nsamples = 6\\nvalue = [1, 5, 0, 0]'),\n",
       " Text(0.5857142857142857, 0.19230769230769232, 'gini = 0.0\\nsamples = 4\\nvalue = [0, 4, 0, 0]'),\n",
       " Text(0.6142857142857143, 0.19230769230769232, 'X[2] <= 3.5\\ngini = 0.5\\nsamples = 2\\nvalue = [1, 1, 0, 0]'),\n",
       " Text(0.6, 0.11538461538461539, 'gini = 0.0\\nsamples = 1\\nvalue = [1, 0, 0, 0]'),\n",
       " Text(0.6285714285714286, 0.11538461538461539, 'gini = 0.0\\nsamples = 1\\nvalue = [0, 1, 0, 0]'),\n",
       " Text(0.6571428571428571, 0.2692307692307692, 'X[2] <= 3.5\\ngini = 0.5\\nsamples = 6\\nvalue = [0, 3, 0, 3]'),\n",
       " Text(0.6428571428571429, 0.19230769230769232, 'gini = 0.0\\nsamples = 3\\nvalue = [0, 3, 0, 0]'),\n",
       " Text(0.6714285714285714, 0.19230769230769232, 'gini = 0.0\\nsamples = 3\\nvalue = [0, 0, 0, 3]'),\n",
       " Text(0.6571428571428571, 0.34615384615384615, 'gini = 0.0\\nsamples = 7\\nvalue = [0, 0, 0, 7]'),\n",
       " Text(0.6714285714285714, 0.4230769230769231, 'gini = 0.0\\nsamples = 14\\nvalue = [0, 14, 0, 0]'),\n",
       " Text(0.7285714285714285, 0.5, 'X[2] <= 2.5\\ngini = 0.061\\nsamples = 32\\nvalue = [1, 31, 0, 0]'),\n",
       " Text(0.7142857142857143, 0.4230769230769231, 'X[4] <= 1.5\\ngini = 0.245\\nsamples = 7\\nvalue = [1, 6, 0, 0]'),\n",
       " Text(0.7, 0.34615384615384615, 'X[3] <= 4.5\\ngini = 0.444\\nsamples = 3\\nvalue = [1, 2, 0, 0]'),\n",
       " Text(0.6857142857142857, 0.2692307692307692, 'gini = 0.0\\nsamples = 2\\nvalue = [0, 2, 0, 0]'),\n",
       " Text(0.7142857142857143, 0.2692307692307692, 'gini = 0.0\\nsamples = 1\\nvalue = [1, 0, 0, 0]'),\n",
       " Text(0.7285714285714285, 0.34615384615384615, 'gini = 0.0\\nsamples = 4\\nvalue = [0, 4, 0, 0]'),\n",
       " Text(0.7428571428571429, 0.4230769230769231, 'gini = 0.0\\nsamples = 25\\nvalue = [0, 25, 0, 0]'),\n",
       " Text(0.8857142857142857, 0.7307692307692307, 'X[1] <= 2.5\\ngini = 0.498\\nsamples = 277\\nvalue = [147, 130, 0, 0]'),\n",
       " Text(0.8142857142857143, 0.6538461538461539, 'X[4] <= 1.5\\ngini = 0.382\\nsamples = 140\\nvalue = [36, 104, 0, 0]'),\n",
       " Text(0.7714285714285715, 0.5769230769230769, 'X[5] <= 2.5\\ngini = 0.487\\nsamples = 43\\nvalue = [25, 18, 0, 0]'),\n",
       " Text(0.7571428571428571, 0.5, 'gini = 0.0\\nsamples = 22\\nvalue = [22, 0, 0, 0]'),\n",
       " Text(0.7857142857142857, 0.5, 'X[2] <= 2.5\\ngini = 0.245\\nsamples = 21\\nvalue = [3, 18, 0, 0]'),\n",
       " Text(0.7714285714285715, 0.4230769230769231, 'X[3] <= 4.5\\ngini = 0.5\\nsamples = 6\\nvalue = [3, 3, 0, 0]'),\n",
       " Text(0.7571428571428571, 0.34615384615384615, 'gini = 0.0\\nsamples = 3\\nvalue = [0, 3, 0, 0]'),\n",
       " Text(0.7857142857142857, 0.34615384615384615, 'gini = 0.0\\nsamples = 3\\nvalue = [3, 0, 0, 0]'),\n",
       " Text(0.8, 0.4230769230769231, 'gini = 0.0\\nsamples = 15\\nvalue = [0, 15, 0, 0]'),\n",
       " Text(0.8571428571428571, 0.5769230769230769, 'X[5] <= 2.5\\ngini = 0.201\\nsamples = 97\\nvalue = [11, 86, 0, 0]'),\n",
       " Text(0.8428571428571429, 0.5, 'X[4] <= 2.5\\ngini = 0.348\\nsamples = 49\\nvalue = [11, 38, 0, 0]'),\n",
       " Text(0.8285714285714286, 0.4230769230769231, 'X[2] <= 3.5\\ngini = 0.493\\nsamples = 25\\nvalue = [11, 14, 0, 0]'),\n",
       " Text(0.8142857142857143, 0.34615384615384615, 'X[3] <= 4.5\\ngini = 0.337\\nsamples = 14\\nvalue = [11, 3, 0, 0]'),\n",
       " Text(0.8, 0.2692307692307692, 'gini = 0.0\\nsamples = 7\\nvalue = [7, 0, 0, 0]'),\n",
       " Text(0.8285714285714286, 0.2692307692307692, 'X[2] <= 2.5\\ngini = 0.49\\nsamples = 7\\nvalue = [4, 3, 0, 0]'),\n",
       " Text(0.8142857142857143, 0.19230769230769232, 'gini = 0.0\\nsamples = 4\\nvalue = [4, 0, 0, 0]'),\n",
       " Text(0.8428571428571429, 0.19230769230769232, 'gini = 0.0\\nsamples = 3\\nvalue = [0, 3, 0, 0]'),\n",
       " Text(0.8428571428571429, 0.34615384615384615, 'gini = 0.0\\nsamples = 11\\nvalue = [0, 11, 0, 0]'),\n",
       " Text(0.8571428571428571, 0.4230769230769231, 'gini = 0.0\\nsamples = 24\\nvalue = [0, 24, 0, 0]'),\n",
       " Text(0.8714285714285714, 0.5, 'gini = 0.0\\nsamples = 48\\nvalue = [0, 48, 0, 0]'),\n",
       " Text(0.9571428571428572, 0.6538461538461539, 'X[1] <= 3.5\\ngini = 0.308\\nsamples = 137\\nvalue = [111, 26, 0, 0]'),\n",
       " Text(0.9428571428571428, 0.5769230769230769, 'X[0] <= 3.5\\ngini = 0.478\\nsamples = 66\\nvalue = [40, 26, 0, 0]'),\n",
       " Text(0.9285714285714286, 0.5, 'X[5] <= 2.5\\ngini = 0.382\\nsamples = 35\\nvalue = [9, 26, 0, 0]'),\n",
       " Text(0.8857142857142857, 0.4230769230769231, 'X[4] <= 1.5\\ngini = 0.498\\nsamples = 15\\nvalue = [8, 7, 0, 0]'),\n",
       " Text(0.8714285714285714, 0.34615384615384615, 'gini = 0.0\\nsamples = 5\\nvalue = [5, 0, 0, 0]'),\n",
       " Text(0.9, 0.34615384615384615, 'X[2] <= 3.5\\ngini = 0.42\\nsamples = 10\\nvalue = [3, 7, 0, 0]'),\n",
       " Text(0.8857142857142857, 0.2692307692307692, 'X[4] <= 2.5\\ngini = 0.5\\nsamples = 6\\nvalue = [3, 3, 0, 0]'),\n",
       " Text(0.8714285714285714, 0.19230769230769232, 'X[2] <= 2.5\\ngini = 0.375\\nsamples = 4\\nvalue = [3, 1, 0, 0]'),\n",
       " Text(0.8571428571428571, 0.11538461538461539, 'gini = 0.0\\nsamples = 2\\nvalue = [2, 0, 0, 0]'),\n",
       " Text(0.8857142857142857, 0.11538461538461539, 'X[3] <= 4.5\\ngini = 0.5\\nsamples = 2\\nvalue = [1, 1, 0, 0]'),\n",
       " Text(0.8714285714285714, 0.038461538461538464, 'gini = 0.0\\nsamples = 1\\nvalue = [1, 0, 0, 0]'),\n",
       " Text(0.9, 0.038461538461538464, 'gini = 0.0\\nsamples = 1\\nvalue = [0, 1, 0, 0]'),\n",
       " Text(0.9, 0.19230769230769232, 'gini = 0.0\\nsamples = 2\\nvalue = [0, 2, 0, 0]'),\n",
       " Text(0.9142857142857143, 0.2692307692307692, 'gini = 0.0\\nsamples = 4\\nvalue = [0, 4, 0, 0]'),\n",
       " Text(0.9714285714285714, 0.4230769230769231, 'X[2] <= 2.5\\ngini = 0.095\\nsamples = 20\\nvalue = [1, 19, 0, 0]'),\n",
       " Text(0.9571428571428572, 0.34615384615384615, 'X[4] <= 1.5\\ngini = 0.375\\nsamples = 4\\nvalue = [1, 3, 0, 0]'),\n",
       " Text(0.9428571428571428, 0.2692307692307692, 'X[3] <= 4.5\\ngini = 0.5\\nsamples = 2\\nvalue = [1, 1, 0, 0]'),\n",
       " Text(0.9285714285714286, 0.19230769230769232, 'gini = 0.0\\nsamples = 1\\nvalue = [0, 1, 0, 0]'),\n",
       " Text(0.9571428571428572, 0.19230769230769232, 'gini = 0.0\\nsamples = 1\\nvalue = [1, 0, 0, 0]'),\n",
       " Text(0.9714285714285714, 0.2692307692307692, 'gini = 0.0\\nsamples = 2\\nvalue = [0, 2, 0, 0]'),\n",
       " Text(0.9857142857142858, 0.34615384615384615, 'gini = 0.0\\nsamples = 16\\nvalue = [0, 16, 0, 0]'),\n",
       " Text(0.9571428571428572, 0.5, 'gini = 0.0\\nsamples = 31\\nvalue = [31, 0, 0, 0]'),\n",
       " Text(0.9714285714285714, 0.5769230769230769, 'gini = 0.0\\nsamples = 71\\nvalue = [71, 0, 0, 0]')]"
      ]
     },
     "execution_count": 135,
     "metadata": {},
     "output_type": "execute_result"
    },
    {
     "data": {
      "image/png": "[encoded data removed]",
      "text/plain": [
       "<Figure size 640x480 with 1 Axes>"
      ]
     },
     "metadata": {},
     "output_type": "display_data"
    }
   ],
   "source": [
    "tree.plot_tree(clf, filled=True)"
   ]
  },
  {
   "cell_type": "markdown",
   "id": "15a7b4e7",
   "metadata": {},
   "source": [
    "Une fois le modèle construit, il est possible de l’utiliser pour la prédiction sur de \n",
    "nouvelles données : "
   ]
  },
  {
   "cell_type": "code",
   "execution_count": 136,
   "id": "632ab28e",
   "metadata": {},
   "outputs": [
    {
     "data": {
      "text/plain": [
       "array([2, 1, 1, 1, 1, 2, 1, 1, 3, 2, 1, 1, 2, 1, 2, 2, 1, 1, 2, 2, 1, 1,\n",
       "       3, 2, 1, 1, 2, 1, 1, 1, 1, 1, 1, 1, 3, 2, 1, 1, 1, 1, 2, 1, 2, 1,\n",
       "       1, 1, 2, 2, 1, 2, 2, 2, 1, 2, 1, 1, 1, 1, 1, 2, 1, 1, 1, 1, 2, 1,\n",
       "       1, 1, 1, 1, 1, 1, 1, 1, 2, 4, 1, 1, 1, 1, 2, 2, 2, 1, 2, 2, 1, 4,\n",
       "       1, 1, 1, 1, 1, 1, 1, 4, 2, 2, 1, 1, 1, 1, 1, 1, 4, 2, 1, 1, 2, 1,\n",
       "       1, 1, 1, 4, 1, 3, 1, 1, 1, 1, 1, 2, 1, 1, 1, 1, 1, 1, 3, 1, 1, 1,\n",
       "       4, 1, 1, 1, 1, 2, 2, 1, 1, 1, 1, 1, 1, 1, 1, 1, 1, 2, 4, 2, 2, 1,\n",
       "       1, 1, 1, 1, 1, 1, 2, 1, 1, 3, 1, 1, 2, 1, 1, 2, 1, 1, 1, 1, 4, 1,\n",
       "       1, 1, 1, 1, 1, 1, 1, 1, 1, 1, 1, 1, 1, 1, 1, 1, 1, 1, 1, 1, 1, 4,\n",
       "       1, 2, 1, 2, 1, 1, 1, 1, 1, 1, 1, 1, 1, 1, 1, 2, 1, 1, 1, 1, 1, 1,\n",
       "       1, 1, 2, 1, 1, 1, 2, 4, 2, 1, 2, 1, 2, 1, 2, 2, 2, 2, 1, 1, 1, 2,\n",
       "       1, 1, 3, 2, 1, 1, 1, 1, 1, 1, 3, 1, 1, 1, 2, 2, 1, 1, 3, 1, 1, 1,\n",
       "       1, 1, 1, 2, 2, 1, 1, 1, 2, 1, 1, 1, 2, 2, 2, 1, 1, 2, 2, 1, 1, 1,\n",
       "       1, 1, 4, 1, 1, 2, 1, 2, 1, 2, 1, 1, 1, 4, 1, 1, 1, 3, 4, 1, 4, 1,\n",
       "       1, 3, 3, 2, 1, 1, 2, 1, 1, 1, 1, 1, 1, 1, 2, 1, 1, 2, 2, 1, 2, 2,\n",
       "       1, 2, 4, 1, 4, 1, 1, 1, 1, 1, 1, 1, 1, 1, 1, 2, 1, 1, 2, 1, 2, 1,\n",
       "       1, 2, 2, 1, 1, 1, 1, 4, 1, 1, 1, 1, 1, 1, 2, 2, 1, 1, 1, 2, 1, 3,\n",
       "       1, 1, 1, 2, 2, 1, 3, 1, 4, 1, 1, 1, 2, 1, 1, 1, 1, 1, 1, 4, 1, 2,\n",
       "       1, 1, 1, 3, 1, 2, 1, 2, 1, 1, 1, 1, 1, 2, 1, 1, 1, 1, 1, 1, 2, 1,\n",
       "       1, 2, 1, 4, 1, 2, 1, 1, 1, 2, 1, 1, 2, 1, 1, 1, 1, 1, 1, 2, 1, 2,\n",
       "       1, 1, 1, 1, 1, 1, 2, 1, 1, 1, 1, 1, 1, 1, 1, 2, 3, 1, 1, 1, 1, 1,\n",
       "       1, 2, 1, 1, 1, 2, 2, 2, 1, 1, 1, 2, 2, 2, 1, 2, 1, 2, 3, 1, 1, 3,\n",
       "       1, 1, 1, 1, 1, 1, 1, 1, 1, 1, 2, 1, 1, 1, 2, 1, 4, 1, 4, 1, 1, 4,\n",
       "       1, 1, 2, 1, 2, 1, 2, 1, 2, 2, 1, 1, 2])"
      ]
     },
     "execution_count": 136,
     "metadata": {},
     "output_type": "execute_result"
    }
   ],
   "source": [
    "clf.predict(X_test)"
   ]
  },
  {
   "cell_type": "code",
   "execution_count": 137,
   "id": "5f565df0",
   "metadata": {},
   "outputs": [
    {
     "data": {
      "text/plain": [
       "0.9807321772639692"
      ]
     },
     "execution_count": 137,
     "metadata": {},
     "output_type": "execute_result"
    }
   ],
   "source": [
    "clf.score(X_test, y_test)"
   ]
  },
  {
   "cell_type": "markdown",
   "id": "5709050e",
   "metadata": {},
   "source": [
    "Changez  les  valeurs  de  parametres  max_depth  et  min_samples_leaf.  Que  constatez-\n",
    "vous ? \n",
    "Voir la documentation des arbres de décision. Le paramètre max_depth est un seuil \n",
    "sur  la  profondeur  maximale  de  l’arbre.  Le  paramètre  min_samples_leaf  donne  le \n",
    "nombre minimal d’échantillons dans un nœud feuille. Ils permettent de mettre des \n",
    "contraintes  sur  la  construction  de  l’arbre  et  donc  de  contrôler  indirectement  le \n",
    "phénomène de sur-apprentissage. "
   ]
  },
  {
   "cell_type": "code",
   "execution_count": 144,
   "id": "3bfed88c",
   "metadata": {},
   "outputs": [
    {
     "data": {
      "text/html": [
       "<style>#sk-container-id-3 {color: black;background-color: white;}#sk-container-id-3 pre{padding: 0;}#sk-container-id-3 div.sk-toggleable {background-color: white;}#sk-container-id-3 label.sk-toggleable__label {cursor: pointer;display: block;width: 100%;margin-bottom: 0;padding: 0.3em;box-sizing: border-box;text-align: center;}#sk-container-id-3 label.sk-toggleable__label-arrow:before {content: \"▸\";float: left;margin-right: 0.25em;color: #696969;}#sk-container-id-3 label.sk-toggleable__label-arrow:hover:before {color: black;}#sk-container-id-3 div.sk-estimator:hover label.sk-toggleable__label-arrow:before {color: black;}#sk-container-id-3 div.sk-toggleable__content {max-height: 0;max-width: 0;overflow: hidden;text-align: left;background-color: #f0f8ff;}#sk-container-id-3 div.sk-toggleable__content pre {margin: 0.2em;color: black;border-radius: 0.25em;background-color: #f0f8ff;}#sk-container-id-3 input.sk-toggleable__control:checked~div.sk-toggleable__content {max-height: 200px;max-width: 100%;overflow: auto;}#sk-container-id-3 input.sk-toggleable__control:checked~label.sk-toggleable__label-arrow:before {content: \"▾\";}#sk-container-id-3 div.sk-estimator input.sk-toggleable__control:checked~label.sk-toggleable__label {background-color: #d4ebff;}#sk-container-id-3 div.sk-label input.sk-toggleable__control:checked~label.sk-toggleable__label {background-color: #d4ebff;}#sk-container-id-3 input.sk-hidden--visually {border: 0;clip: rect(1px 1px 1px 1px);clip: rect(1px, 1px, 1px, 1px);height: 1px;margin: -1px;overflow: hidden;padding: 0;position: absolute;width: 1px;}#sk-container-id-3 div.sk-estimator {font-family: monospace;background-color: #f0f8ff;border: 1px dotted black;border-radius: 0.25em;box-sizing: border-box;margin-bottom: 0.5em;}#sk-container-id-3 div.sk-estimator:hover {background-color: #d4ebff;}#sk-container-id-3 div.sk-parallel-item::after {content: \"\";width: 100%;border-bottom: 1px solid gray;flex-grow: 1;}#sk-container-id-3 div.sk-label:hover label.sk-toggleable__label {background-color: #d4ebff;}#sk-container-id-3 div.sk-serial::before {content: \"\";position: absolute;border-left: 1px solid gray;box-sizing: border-box;top: 0;bottom: 0;left: 50%;z-index: 0;}#sk-container-id-3 div.sk-serial {display: flex;flex-direction: column;align-items: center;background-color: white;padding-right: 0.2em;padding-left: 0.2em;position: relative;}#sk-container-id-3 div.sk-item {position: relative;z-index: 1;}#sk-container-id-3 div.sk-parallel {display: flex;align-items: stretch;justify-content: center;background-color: white;position: relative;}#sk-container-id-3 div.sk-item::before, #sk-container-id-3 div.sk-parallel-item::before {content: \"\";position: absolute;border-left: 1px solid gray;box-sizing: border-box;top: 0;bottom: 0;left: 50%;z-index: -1;}#sk-container-id-3 div.sk-parallel-item {display: flex;flex-direction: column;z-index: 1;position: relative;background-color: white;}#sk-container-id-3 div.sk-parallel-item:first-child::after {align-self: flex-end;width: 50%;}#sk-container-id-3 div.sk-parallel-item:last-child::after {align-self: flex-start;width: 50%;}#sk-container-id-3 div.sk-parallel-item:only-child::after {width: 0;}#sk-container-id-3 div.sk-dashed-wrapped {border: 1px dashed gray;margin: 0 0.4em 0.5em 0.4em;box-sizing: border-box;padding-bottom: 0.4em;background-color: white;}#sk-container-id-3 div.sk-label label {font-family: monospace;font-weight: bold;display: inline-block;line-height: 1.2em;}#sk-container-id-3 div.sk-label-container {text-align: center;}#sk-container-id-3 div.sk-container {/* jupyter's `normalize.less` sets `[hidden] { display: none; }` but bootstrap.min.css set `[hidden] { display: none !important; }` so we also need the `!important` here to be able to override the default hidden behavior on the sphinx rendered scikit-learn.org. See: https://github.com/scikit-learn/scikit-learn/issues/21755 */display: inline-block !important;position: relative;}#sk-container-id-3 div.sk-text-repr-fallback {display: none;}</style><div id=\"sk-container-id-3\" class=\"sk-top-container\"><div class=\"sk-text-repr-fallback\"><pre>DecisionTreeClassifier(max_depth=3)</pre><b>In a Jupyter environment, please rerun this cell to show the HTML representation or trust the notebook. <br />On GitHub, the HTML representation is unable to render, please try loading this page with nbviewer.org.</b></div><div class=\"sk-container\" hidden><div class=\"sk-item\"><div class=\"sk-estimator sk-toggleable\"><input class=\"sk-toggleable__control sk-hidden--visually\" id=\"sk-estimator-id-3\" type=\"checkbox\" checked><label for=\"sk-estimator-id-3\" class=\"sk-toggleable__label sk-toggleable__label-arrow\">DecisionTreeClassifier</label><div class=\"sk-toggleable__content\"><pre>DecisionTreeClassifier(max_depth=3)</pre></div></div></div></div></div>"
      ],
      "text/plain": [
       "DecisionTreeClassifier(max_depth=3)"
      ]
     },
     "execution_count": 144,
     "metadata": {},
     "output_type": "execute_result"
    }
   ],
   "source": [
    "clf1 = tree.DecisionTreeClassifier(max_depth = 3)\n",
    "clf1.fit(X_train, y_train)"
   ]
  },
  {
   "cell_type": "code",
   "execution_count": 145,
   "id": "b4a29fc7",
   "metadata": {},
   "outputs": [
    {
     "data": {
      "text/plain": [
       "[Text(0.3333333333333333, 0.875, 'X[5] <= 1.5\\ngini = 0.452\\nsamples = 1208\\nvalue = [851, 268, 48, 41]'),\n",
       " Text(0.16666666666666666, 0.625, 'gini = 0.0\\nsamples = 402\\nvalue = [402, 0, 0, 0]'),\n",
       " Text(0.5, 0.625, 'X[3] <= 3.0\\ngini = 0.573\\nsamples = 806\\nvalue = [449, 268, 48, 41]'),\n",
       " Text(0.3333333333333333, 0.375, 'gini = 0.0\\nsamples = 265\\nvalue = [265, 0, 0, 0]'),\n",
       " Text(0.6666666666666666, 0.375, 'X[0] <= 2.5\\ngini = 0.625\\nsamples = 541\\nvalue = [184, 268, 48, 41]'),\n",
       " Text(0.5, 0.125, 'gini = 0.65\\nsamples = 264\\nvalue = [37, 138, 48, 41]'),\n",
       " Text(0.8333333333333334, 0.125, 'gini = 0.498\\nsamples = 277\\nvalue = [147, 130, 0, 0]')]"
      ]
     },
     "execution_count": 145,
     "metadata": {},
     "output_type": "execute_result"
    },
    {
     "data": {
      "image/png": "[encoded data removed]",
      "text/plain": [
       "<Figure size 640x480 with 1 Axes>"
      ]
     },
     "metadata": {},
     "output_type": "display_data"
    }
   ],
   "source": [
    "tree.plot_tree(clf1, filled=True)"
   ]
  },
  {
   "cell_type": "code",
   "execution_count": 146,
   "id": "5e4c404d",
   "metadata": {},
   "outputs": [
    {
     "data": {
      "text/plain": [
       "array([2, 1, 1, 1, 1, 2, 1, 1, 2, 2, 1, 1, 2, 2, 2, 2, 1, 1, 1, 2, 1, 1,\n",
       "       2, 2, 1, 1, 1, 1, 1, 1, 1, 1, 1, 1, 2, 1, 1, 1, 1, 1, 2, 1, 2, 1,\n",
       "       1, 1, 2, 2, 1, 1, 2, 2, 1, 2, 1, 1, 1, 1, 1, 2, 1, 1, 2, 1, 2, 1,\n",
       "       1, 1, 1, 1, 1, 1, 1, 1, 2, 2, 1, 2, 1, 1, 1, 1, 2, 1, 1, 1, 1, 2,\n",
       "       1, 1, 1, 1, 1, 1, 1, 2, 1, 2, 1, 1, 1, 1, 1, 1, 2, 1, 1, 1, 2, 1,\n",
       "       1, 1, 1, 2, 1, 2, 1, 1, 1, 1, 1, 1, 1, 1, 1, 1, 1, 1, 2, 1, 1, 1,\n",
       "       2, 1, 1, 1, 1, 2, 1, 1, 1, 1, 1, 1, 1, 1, 1, 2, 1, 1, 2, 1, 2, 1,\n",
       "       1, 1, 1, 1, 1, 1, 2, 1, 1, 2, 1, 1, 2, 1, 1, 2, 1, 1, 1, 1, 2, 1,\n",
       "       1, 1, 1, 1, 1, 1, 1, 1, 1, 1, 1, 1, 1, 1, 1, 1, 1, 1, 1, 1, 1, 2,\n",
       "       1, 1, 1, 1, 1, 1, 1, 1, 1, 1, 1, 1, 1, 1, 1, 2, 1, 1, 1, 1, 1, 1,\n",
       "       1, 1, 2, 1, 1, 1, 2, 2, 2, 1, 2, 1, 2, 1, 1, 1, 2, 1, 1, 1, 1, 1,\n",
       "       1, 1, 2, 2, 1, 1, 1, 1, 1, 1, 2, 1, 1, 1, 2, 2, 1, 1, 2, 1, 1, 1,\n",
       "       1, 1, 1, 1, 1, 2, 1, 1, 2, 1, 1, 1, 2, 2, 1, 1, 1, 1, 2, 1, 1, 1,\n",
       "       1, 1, 2, 1, 1, 2, 1, 2, 1, 2, 1, 1, 1, 2, 1, 1, 1, 2, 2, 1, 2, 1,\n",
       "       1, 2, 2, 2, 1, 1, 1, 1, 2, 1, 1, 1, 1, 1, 1, 1, 1, 2, 1, 1, 2, 2,\n",
       "       1, 1, 2, 1, 2, 1, 1, 1, 1, 1, 1, 1, 1, 1, 1, 1, 1, 1, 1, 1, 2, 1,\n",
       "       1, 2, 1, 1, 1, 1, 1, 2, 1, 1, 1, 1, 1, 1, 1, 1, 1, 1, 1, 2, 1, 2,\n",
       "       1, 1, 1, 2, 1, 1, 2, 1, 2, 1, 2, 1, 1, 1, 1, 1, 1, 1, 1, 2, 1, 1,\n",
       "       1, 1, 1, 2, 1, 2, 1, 2, 1, 1, 1, 1, 1, 2, 2, 1, 1, 1, 1, 1, 2, 1,\n",
       "       1, 1, 1, 2, 1, 2, 2, 1, 1, 2, 1, 1, 1, 1, 1, 1, 2, 1, 1, 1, 1, 2,\n",
       "       1, 1, 1, 1, 1, 1, 2, 1, 1, 1, 1, 1, 1, 2, 1, 2, 2, 1, 1, 1, 1, 1,\n",
       "       1, 2, 1, 1, 1, 1, 1, 1, 1, 1, 1, 1, 1, 2, 1, 1, 1, 1, 2, 1, 1, 2,\n",
       "       1, 1, 1, 1, 1, 1, 2, 1, 2, 1, 2, 1, 1, 1, 1, 1, 2, 1, 2, 1, 1, 2,\n",
       "       1, 1, 2, 1, 1, 1, 1, 1, 2, 1, 1, 1, 2])"
      ]
     },
     "execution_count": 146,
     "metadata": {},
     "output_type": "execute_result"
    }
   ],
   "source": [
    "clf1.predict(X_test)"
   ]
  },
  {
   "cell_type": "code",
   "execution_count": 147,
   "id": "8dfe07a1",
   "metadata": {},
   "outputs": [
    {
     "data": {
      "text/plain": [
       "0.7996146435452793"
      ]
     },
     "execution_count": 147,
     "metadata": {},
     "output_type": "execute_result"
    }
   ],
   "source": [
    "clf1.score(X_test, y_test)"
   ]
  },
  {
   "cell_type": "markdown",
   "id": "b80b78bb",
   "metadata": {},
   "source": [
    "on constate que apres avoir changer le max_depth = 3 en diminien le profondeur de l'arbre on voit que le score a duminier de 98% a presque 80%"
   ]
  },
  {
   "cell_type": "code",
   "execution_count": 148,
   "id": "92801cb1",
   "metadata": {},
   "outputs": [
    {
     "data": {
      "text/html": [
       "<style>#sk-container-id-4 {color: black;background-color: white;}#sk-container-id-4 pre{padding: 0;}#sk-container-id-4 div.sk-toggleable {background-color: white;}#sk-container-id-4 label.sk-toggleable__label {cursor: pointer;display: block;width: 100%;margin-bottom: 0;padding: 0.3em;box-sizing: border-box;text-align: center;}#sk-container-id-4 label.sk-toggleable__label-arrow:before {content: \"▸\";float: left;margin-right: 0.25em;color: #696969;}#sk-container-id-4 label.sk-toggleable__label-arrow:hover:before {color: black;}#sk-container-id-4 div.sk-estimator:hover label.sk-toggleable__label-arrow:before {color: black;}#sk-container-id-4 div.sk-toggleable__content {max-height: 0;max-width: 0;overflow: hidden;text-align: left;background-color: #f0f8ff;}#sk-container-id-4 div.sk-toggleable__content pre {margin: 0.2em;color: black;border-radius: 0.25em;background-color: #f0f8ff;}#sk-container-id-4 input.sk-toggleable__control:checked~div.sk-toggleable__content {max-height: 200px;max-width: 100%;overflow: auto;}#sk-container-id-4 input.sk-toggleable__control:checked~label.sk-toggleable__label-arrow:before {content: \"▾\";}#sk-container-id-4 div.sk-estimator input.sk-toggleable__control:checked~label.sk-toggleable__label {background-color: #d4ebff;}#sk-container-id-4 div.sk-label input.sk-toggleable__control:checked~label.sk-toggleable__label {background-color: #d4ebff;}#sk-container-id-4 input.sk-hidden--visually {border: 0;clip: rect(1px 1px 1px 1px);clip: rect(1px, 1px, 1px, 1px);height: 1px;margin: -1px;overflow: hidden;padding: 0;position: absolute;width: 1px;}#sk-container-id-4 div.sk-estimator {font-family: monospace;background-color: #f0f8ff;border: 1px dotted black;border-radius: 0.25em;box-sizing: border-box;margin-bottom: 0.5em;}#sk-container-id-4 div.sk-estimator:hover {background-color: #d4ebff;}#sk-container-id-4 div.sk-parallel-item::after {content: \"\";width: 100%;border-bottom: 1px solid gray;flex-grow: 1;}#sk-container-id-4 div.sk-label:hover label.sk-toggleable__label {background-color: #d4ebff;}#sk-container-id-4 div.sk-serial::before {content: \"\";position: absolute;border-left: 1px solid gray;box-sizing: border-box;top: 0;bottom: 0;left: 50%;z-index: 0;}#sk-container-id-4 div.sk-serial {display: flex;flex-direction: column;align-items: center;background-color: white;padding-right: 0.2em;padding-left: 0.2em;position: relative;}#sk-container-id-4 div.sk-item {position: relative;z-index: 1;}#sk-container-id-4 div.sk-parallel {display: flex;align-items: stretch;justify-content: center;background-color: white;position: relative;}#sk-container-id-4 div.sk-item::before, #sk-container-id-4 div.sk-parallel-item::before {content: \"\";position: absolute;border-left: 1px solid gray;box-sizing: border-box;top: 0;bottom: 0;left: 50%;z-index: -1;}#sk-container-id-4 div.sk-parallel-item {display: flex;flex-direction: column;z-index: 1;position: relative;background-color: white;}#sk-container-id-4 div.sk-parallel-item:first-child::after {align-self: flex-end;width: 50%;}#sk-container-id-4 div.sk-parallel-item:last-child::after {align-self: flex-start;width: 50%;}#sk-container-id-4 div.sk-parallel-item:only-child::after {width: 0;}#sk-container-id-4 div.sk-dashed-wrapped {border: 1px dashed gray;margin: 0 0.4em 0.5em 0.4em;box-sizing: border-box;padding-bottom: 0.4em;background-color: white;}#sk-container-id-4 div.sk-label label {font-family: monospace;font-weight: bold;display: inline-block;line-height: 1.2em;}#sk-container-id-4 div.sk-label-container {text-align: center;}#sk-container-id-4 div.sk-container {/* jupyter's `normalize.less` sets `[hidden] { display: none; }` but bootstrap.min.css set `[hidden] { display: none !important; }` so we also need the `!important` here to be able to override the default hidden behavior on the sphinx rendered scikit-learn.org. See: https://github.com/scikit-learn/scikit-learn/issues/21755 */display: inline-block !important;position: relative;}#sk-container-id-4 div.sk-text-repr-fallback {display: none;}</style><div id=\"sk-container-id-4\" class=\"sk-top-container\"><div class=\"sk-text-repr-fallback\"><pre>DecisionTreeClassifier(min_samples_leaf=20)</pre><b>In a Jupyter environment, please rerun this cell to show the HTML representation or trust the notebook. <br />On GitHub, the HTML representation is unable to render, please try loading this page with nbviewer.org.</b></div><div class=\"sk-container\" hidden><div class=\"sk-item\"><div class=\"sk-estimator sk-toggleable\"><input class=\"sk-toggleable__control sk-hidden--visually\" id=\"sk-estimator-id-4\" type=\"checkbox\" checked><label for=\"sk-estimator-id-4\" class=\"sk-toggleable__label sk-toggleable__label-arrow\">DecisionTreeClassifier</label><div class=\"sk-toggleable__content\"><pre>DecisionTreeClassifier(min_samples_leaf=20)</pre></div></div></div></div></div>"
      ],
      "text/plain": [
       "DecisionTreeClassifier(min_samples_leaf=20)"
      ]
     },
     "execution_count": 148,
     "metadata": {},
     "output_type": "execute_result"
    }
   ],
   "source": [
    "clf2 = tree.DecisionTreeClassifier(min_samples_leaf = 20) \n",
    "clf2.fit(X_train, y_train)"
   ]
  },
  {
   "cell_type": "code",
   "execution_count": 149,
   "id": "4e0aa6d9",
   "metadata": {},
   "outputs": [
    {
     "data": {
      "text/plain": [
       "[Text(0.47413793103448276, 0.9375, 'X[5] <= 1.5\\ngini = 0.452\\nsamples = 1208\\nvalue = [851, 268, 48, 41]'),\n",
       " Text(0.4396551724137931, 0.8125, 'gini = 0.0\\nsamples = 402\\nvalue = [402, 0, 0, 0]'),\n",
       " Text(0.5086206896551724, 0.8125, 'X[3] <= 3.0\\ngini = 0.573\\nsamples = 806\\nvalue = [449, 268, 48, 41]'),\n",
       " Text(0.47413793103448276, 0.6875, 'gini = 0.0\\nsamples = 265\\nvalue = [265, 0, 0, 0]'),\n",
       " Text(0.5431034482758621, 0.6875, 'X[0] <= 2.5\\ngini = 0.625\\nsamples = 541\\nvalue = [184, 268, 48, 41]'),\n",
       " Text(0.27586206896551724, 0.5625, 'X[1] <= 2.5\\ngini = 0.65\\nsamples = 264\\nvalue = [37, 138, 48, 41]'),\n",
       " Text(0.13793103448275862, 0.4375, 'X[5] <= 2.5\\ngini = 0.694\\nsamples = 130\\nvalue = [8, 43, 48, 31]'),\n",
       " Text(0.06896551724137931, 0.3125, 'X[4] <= 1.5\\ngini = 0.552\\nsamples = 69\\nvalue = [4, 34, 31, 0]'),\n",
       " Text(0.034482758620689655, 0.1875, 'gini = 0.278\\nsamples = 24\\nvalue = [4, 20, 0, 0]'),\n",
       " Text(0.10344827586206896, 0.1875, 'X[0] <= 1.5\\ngini = 0.429\\nsamples = 45\\nvalue = [0, 14, 31, 0]'),\n",
       " Text(0.06896551724137931, 0.0625, 'gini = 0.165\\nsamples = 22\\nvalue = [0, 2, 20, 0]'),\n",
       " Text(0.13793103448275862, 0.0625, 'gini = 0.499\\nsamples = 23\\nvalue = [0, 12, 11, 0]'),\n",
       " Text(0.20689655172413793, 0.3125, 'X[4] <= 1.5\\ngini = 0.638\\nsamples = 61\\nvalue = [4, 9, 17, 31]'),\n",
       " Text(0.1724137931034483, 0.1875, 'gini = 0.557\\nsamples = 25\\nvalue = [4, 6, 15, 0]'),\n",
       " Text(0.2413793103448276, 0.1875, 'gini = 0.248\\nsamples = 36\\nvalue = [0, 3, 2, 31]'),\n",
       " Text(0.41379310344827586, 0.4375, 'X[5] <= 2.5\\ngini = 0.445\\nsamples = 134\\nvalue = [29, 95, 0, 10]'),\n",
       " Text(0.3448275862068966, 0.3125, 'X[4] <= 2.5\\ngini = 0.476\\nsamples = 69\\nvalue = [27, 42, 0, 0]'),\n",
       " Text(0.3103448275862069, 0.1875, 'X[0] <= 1.5\\ngini = 0.474\\nsamples = 44\\nvalue = [27, 17, 0, 0]'),\n",
       " Text(0.27586206896551724, 0.0625, 'gini = 0.48\\nsamples = 20\\nvalue = [8, 12, 0, 0]'),\n",
       " Text(0.3448275862068966, 0.0625, 'gini = 0.33\\nsamples = 24\\nvalue = [19, 5, 0, 0]'),\n",
       " Text(0.3793103448275862, 0.1875, 'gini = 0.0\\nsamples = 25\\nvalue = [0, 25, 0, 0]'),\n",
       " Text(0.4827586206896552, 0.3125, 'X[0] <= 1.5\\ngini = 0.311\\nsamples = 65\\nvalue = [2, 53, 0, 10]'),\n",
       " Text(0.4482758620689655, 0.1875, 'gini = 0.463\\nsamples = 33\\nvalue = [1, 22, 0, 10]'),\n",
       " Text(0.5172413793103449, 0.1875, 'gini = 0.061\\nsamples = 32\\nvalue = [1, 31, 0, 0]'),\n",
       " Text(0.8103448275862069, 0.5625, 'X[1] <= 2.5\\ngini = 0.498\\nsamples = 277\\nvalue = [147, 130, 0, 0]'),\n",
       " Text(0.6896551724137931, 0.4375, 'X[4] <= 1.5\\ngini = 0.382\\nsamples = 140\\nvalue = [36, 104, 0, 0]'),\n",
       " Text(0.6206896551724138, 0.3125, 'X[5] <= 2.5\\ngini = 0.487\\nsamples = 43\\nvalue = [25, 18, 0, 0]'),\n",
       " Text(0.5862068965517241, 0.1875, 'gini = 0.0\\nsamples = 22\\nvalue = [22, 0, 0, 0]'),\n",
       " Text(0.6551724137931034, 0.1875, 'gini = 0.245\\nsamples = 21\\nvalue = [3, 18, 0, 0]'),\n",
       " Text(0.7586206896551724, 0.3125, 'X[5] <= 2.5\\ngini = 0.201\\nsamples = 97\\nvalue = [11, 86, 0, 0]'),\n",
       " Text(0.7241379310344828, 0.1875, 'X[4] <= 2.5\\ngini = 0.348\\nsamples = 49\\nvalue = [11, 38, 0, 0]'),\n",
       " Text(0.6896551724137931, 0.0625, 'gini = 0.493\\nsamples = 25\\nvalue = [11, 14, 0, 0]'),\n",
       " Text(0.7586206896551724, 0.0625, 'gini = 0.0\\nsamples = 24\\nvalue = [0, 24, 0, 0]'),\n",
       " Text(0.7931034482758621, 0.1875, 'gini = 0.0\\nsamples = 48\\nvalue = [0, 48, 0, 0]'),\n",
       " Text(0.9310344827586207, 0.4375, 'X[1] <= 3.5\\ngini = 0.308\\nsamples = 137\\nvalue = [111, 26, 0, 0]'),\n",
       " Text(0.896551724137931, 0.3125, 'X[0] <= 3.5\\ngini = 0.478\\nsamples = 66\\nvalue = [40, 26, 0, 0]'),\n",
       " Text(0.8620689655172413, 0.1875, 'gini = 0.382\\nsamples = 35\\nvalue = [9, 26, 0, 0]'),\n",
       " Text(0.9310344827586207, 0.1875, 'gini = 0.0\\nsamples = 31\\nvalue = [31, 0, 0, 0]'),\n",
       " Text(0.9655172413793104, 0.3125, 'gini = 0.0\\nsamples = 71\\nvalue = [71, 0, 0, 0]')]"
      ]
     },
     "execution_count": 149,
     "metadata": {},
     "output_type": "execute_result"
    },
    {
     "data": {
      "image/png": "[encoded data removed]",
      "text/plain": [
       "<Figure size 640x480 with 1 Axes>"
      ]
     },
     "metadata": {},
     "output_type": "display_data"
    }
   ],
   "source": [
    "tree.plot_tree(clf2, filled=True)"
   ]
  },
  {
   "cell_type": "code",
   "execution_count": 150,
   "id": "606ebd50",
   "metadata": {},
   "outputs": [
    {
     "data": {
      "text/plain": [
       "array([2, 1, 1, 1, 1, 4, 1, 1, 4, 2, 1, 1, 3, 2, 2, 2, 1, 1, 2, 2, 1, 1,\n",
       "       4, 1, 1, 1, 2, 1, 1, 1, 1, 1, 1, 1, 3, 2, 1, 1, 1, 1, 2, 1, 2, 1,\n",
       "       1, 1, 2, 2, 1, 2, 2, 2, 1, 2, 1, 1, 1, 1, 1, 2, 1, 1, 2, 1, 2, 1,\n",
       "       1, 1, 1, 1, 1, 1, 1, 1, 4, 4, 1, 2, 1, 1, 2, 2, 2, 1, 2, 2, 1, 4,\n",
       "       1, 1, 1, 1, 1, 1, 1, 4, 2, 2, 1, 1, 1, 1, 1, 2, 4, 2, 1, 1, 1, 1,\n",
       "       1, 1, 2, 4, 2, 4, 1, 1, 1, 1, 1, 2, 1, 1, 1, 1, 1, 1, 3, 1, 1, 1,\n",
       "       4, 1, 1, 1, 1, 2, 2, 1, 1, 1, 1, 1, 1, 1, 1, 2, 1, 2, 4, 2, 2, 1,\n",
       "       1, 1, 1, 1, 1, 1, 2, 1, 1, 2, 1, 1, 2, 1, 1, 2, 1, 1, 1, 1, 4, 1,\n",
       "       1, 1, 1, 1, 1, 1, 1, 1, 1, 1, 1, 1, 1, 1, 1, 1, 1, 1, 1, 1, 1, 4,\n",
       "       1, 2, 1, 2, 1, 1, 1, 1, 1, 1, 1, 1, 1, 1, 1, 2, 1, 1, 1, 1, 1, 1,\n",
       "       1, 1, 1, 1, 1, 1, 3, 4, 2, 1, 2, 1, 2, 1, 2, 2, 2, 2, 2, 1, 1, 2,\n",
       "       1, 1, 3, 2, 1, 1, 1, 1, 1, 1, 3, 1, 1, 1, 2, 2, 1, 1, 3, 1, 1, 1,\n",
       "       1, 1, 1, 2, 2, 2, 1, 1, 2, 1, 1, 1, 3, 2, 2, 1, 1, 2, 2, 1, 1, 1,\n",
       "       1, 1, 4, 1, 1, 3, 1, 2, 1, 2, 1, 1, 1, 4, 1, 1, 1, 3, 4, 1, 4, 1,\n",
       "       1, 3, 3, 2, 1, 1, 2, 1, 2, 1, 1, 1, 1, 1, 2, 1, 1, 2, 2, 1, 1, 2,\n",
       "       1, 2, 4, 1, 4, 1, 1, 1, 1, 1, 1, 1, 1, 1, 1, 2, 1, 1, 2, 1, 2, 1,\n",
       "       1, 2, 2, 1, 1, 1, 1, 2, 1, 1, 1, 1, 1, 1, 2, 2, 1, 1, 1, 1, 1, 3,\n",
       "       1, 1, 1, 4, 2, 1, 3, 1, 4, 1, 2, 1, 2, 1, 1, 1, 1, 1, 1, 4, 1, 2,\n",
       "       1, 1, 1, 3, 1, 2, 1, 2, 1, 1, 1, 1, 1, 2, 1, 1, 1, 1, 1, 1, 2, 1,\n",
       "       1, 2, 1, 4, 1, 2, 1, 1, 1, 2, 1, 1, 2, 1, 1, 1, 1, 1, 1, 2, 1, 2,\n",
       "       1, 1, 1, 1, 1, 2, 3, 1, 1, 1, 1, 1, 1, 2, 1, 2, 3, 1, 1, 1, 1, 1,\n",
       "       1, 2, 1, 1, 1, 2, 2, 2, 1, 1, 1, 2, 2, 2, 1, 2, 1, 2, 2, 1, 1, 4,\n",
       "       1, 1, 1, 1, 1, 1, 2, 1, 2, 1, 2, 1, 1, 1, 2, 1, 2, 1, 4, 1, 1, 4,\n",
       "       1, 1, 2, 1, 2, 1, 2, 1, 2, 2, 1, 1, 2])"
      ]
     },
     "execution_count": 150,
     "metadata": {},
     "output_type": "execute_result"
    }
   ],
   "source": [
    "clf2.predict(X_test)"
   ]
  },
  {
   "cell_type": "code",
   "execution_count": 152,
   "id": "0f195f7c",
   "metadata": {},
   "outputs": [
    {
     "data": {
      "text/plain": [
       "0.9364161849710982"
      ]
     },
     "execution_count": 152,
     "metadata": {},
     "output_type": "execute_result"
    }
   ],
   "source": [
    "clf2.score(X_test, y_test)"
   ]
  },
  {
   "cell_type": "markdown",
   "id": "1ca07955",
   "metadata": {},
   "source": [
    "Voici l’arbre obtenu avec min_samples_leaf=20. Il a plus d’éléments dans les feuilles, \n",
    "donc moins de nœuds et l’arbre est moins profond. avec un score de 93%"
   ]
  },
  {
   "cell_type": "markdown",
   "id": "496702ab",
   "metadata": {},
   "source": [
    "## Question : \n",
    "Le problème ici étant particulièrement simple, refaites une division \n",
    "apprentissage/test avec 5% des données en apprentissage et 95% test. \n",
    "Calculez le taux d’éléments mal classifiés sur l’ensemble de test. \n",
    "Faites  varier  (ou  mieux,  réalisez  une  recherche  par  grille  avec  GridSearchCV)  les \n",
    "valeurs des paramètres max_depth et min_samples_leaf pour mesurer leur impact sur \n",
    "ce score. "
   ]
  },
  {
   "cell_type": "code",
   "execution_count": 153,
   "id": "2de8c818",
   "metadata": {},
   "outputs": [],
   "source": [
    "X_train,  X_test,  y_train,  y_test  =  train_test_split(car_data,  car_target,  train_size=0.05, \n",
    "random_state=0) \n"
   ]
  },
  {
   "cell_type": "code",
   "execution_count": 155,
   "id": "71dceec4",
   "metadata": {},
   "outputs": [],
   "source": [
    "param_dict= {\n",
    "    \"max_depth\":range(1,10),\n",
    "    \"min_samples_leaf\":range(1,20)\n",
    "}"
   ]
  },
  {
   "cell_type": "code",
   "execution_count": 156,
   "id": "0eec2e75",
   "metadata": {},
   "outputs": [
    {
     "name": "stderr",
     "output_type": "stream",
     "text": [
      "/home/etudiant/anaconda3/envs/kehmess/lib/python3.10/site-packages/sklearn/model_selection/_split.py:680: UserWarning: The least populated class in y has only 1 members, which is less than n_splits=10.\n",
      "  warnings.warn(\n"
     ]
    },
    {
     "data": {
      "text/html": [
       "<style>#sk-container-id-6 {color: black;background-color: white;}#sk-container-id-6 pre{padding: 0;}#sk-container-id-6 div.sk-toggleable {background-color: white;}#sk-container-id-6 label.sk-toggleable__label {cursor: pointer;display: block;width: 100%;margin-bottom: 0;padding: 0.3em;box-sizing: border-box;text-align: center;}#sk-container-id-6 label.sk-toggleable__label-arrow:before {content: \"▸\";float: left;margin-right: 0.25em;color: #696969;}#sk-container-id-6 label.sk-toggleable__label-arrow:hover:before {color: black;}#sk-container-id-6 div.sk-estimator:hover label.sk-toggleable__label-arrow:before {color: black;}#sk-container-id-6 div.sk-toggleable__content {max-height: 0;max-width: 0;overflow: hidden;text-align: left;background-color: #f0f8ff;}#sk-container-id-6 div.sk-toggleable__content pre {margin: 0.2em;color: black;border-radius: 0.25em;background-color: #f0f8ff;}#sk-container-id-6 input.sk-toggleable__control:checked~div.sk-toggleable__content {max-height: 200px;max-width: 100%;overflow: auto;}#sk-container-id-6 input.sk-toggleable__control:checked~label.sk-toggleable__label-arrow:before {content: \"▾\";}#sk-container-id-6 div.sk-estimator input.sk-toggleable__control:checked~label.sk-toggleable__label {background-color: #d4ebff;}#sk-container-id-6 div.sk-label input.sk-toggleable__control:checked~label.sk-toggleable__label {background-color: #d4ebff;}#sk-container-id-6 input.sk-hidden--visually {border: 0;clip: rect(1px 1px 1px 1px);clip: rect(1px, 1px, 1px, 1px);height: 1px;margin: -1px;overflow: hidden;padding: 0;position: absolute;width: 1px;}#sk-container-id-6 div.sk-estimator {font-family: monospace;background-color: #f0f8ff;border: 1px dotted black;border-radius: 0.25em;box-sizing: border-box;margin-bottom: 0.5em;}#sk-container-id-6 div.sk-estimator:hover {background-color: #d4ebff;}#sk-container-id-6 div.sk-parallel-item::after {content: \"\";width: 100%;border-bottom: 1px solid gray;flex-grow: 1;}#sk-container-id-6 div.sk-label:hover label.sk-toggleable__label {background-color: #d4ebff;}#sk-container-id-6 div.sk-serial::before {content: \"\";position: absolute;border-left: 1px solid gray;box-sizing: border-box;top: 0;bottom: 0;left: 50%;z-index: 0;}#sk-container-id-6 div.sk-serial {display: flex;flex-direction: column;align-items: center;background-color: white;padding-right: 0.2em;padding-left: 0.2em;position: relative;}#sk-container-id-6 div.sk-item {position: relative;z-index: 1;}#sk-container-id-6 div.sk-parallel {display: flex;align-items: stretch;justify-content: center;background-color: white;position: relative;}#sk-container-id-6 div.sk-item::before, #sk-container-id-6 div.sk-parallel-item::before {content: \"\";position: absolute;border-left: 1px solid gray;box-sizing: border-box;top: 0;bottom: 0;left: 50%;z-index: -1;}#sk-container-id-6 div.sk-parallel-item {display: flex;flex-direction: column;z-index: 1;position: relative;background-color: white;}#sk-container-id-6 div.sk-parallel-item:first-child::after {align-self: flex-end;width: 50%;}#sk-container-id-6 div.sk-parallel-item:last-child::after {align-self: flex-start;width: 50%;}#sk-container-id-6 div.sk-parallel-item:only-child::after {width: 0;}#sk-container-id-6 div.sk-dashed-wrapped {border: 1px dashed gray;margin: 0 0.4em 0.5em 0.4em;box-sizing: border-box;padding-bottom: 0.4em;background-color: white;}#sk-container-id-6 div.sk-label label {font-family: monospace;font-weight: bold;display: inline-block;line-height: 1.2em;}#sk-container-id-6 div.sk-label-container {text-align: center;}#sk-container-id-6 div.sk-container {/* jupyter's `normalize.less` sets `[hidden] { display: none; }` but bootstrap.min.css set `[hidden] { display: none !important; }` so we also need the `!important` here to be able to override the default hidden behavior on the sphinx rendered scikit-learn.org. See: https://github.com/scikit-learn/scikit-learn/issues/21755 */display: inline-block !important;position: relative;}#sk-container-id-6 div.sk-text-repr-fallback {display: none;}</style><div id=\"sk-container-id-6\" class=\"sk-top-container\"><div class=\"sk-text-repr-fallback\"><pre>GridSearchCV(cv=10, estimator=DecisionTreeClassifier(), n_jobs=5,\n",
       "             param_grid={&#x27;max_depth&#x27;: range(1, 10),\n",
       "                         &#x27;min_samples_leaf&#x27;: range(1, 10)})</pre><b>In a Jupyter environment, please rerun this cell to show the HTML representation or trust the notebook. <br />On GitHub, the HTML representation is unable to render, please try loading this page with nbviewer.org.</b></div><div class=\"sk-container\" hidden><div class=\"sk-item sk-dashed-wrapped\"><div class=\"sk-label-container\"><div class=\"sk-label sk-toggleable\"><input class=\"sk-toggleable__control sk-hidden--visually\" id=\"sk-estimator-id-6\" type=\"checkbox\" ><label for=\"sk-estimator-id-6\" class=\"sk-toggleable__label sk-toggleable__label-arrow\">GridSearchCV</label><div class=\"sk-toggleable__content\"><pre>GridSearchCV(cv=10, estimator=DecisionTreeClassifier(), n_jobs=5,\n",
       "             param_grid={&#x27;max_depth&#x27;: range(1, 10),\n",
       "                         &#x27;min_samples_leaf&#x27;: range(1, 10)})</pre></div></div></div><div class=\"sk-parallel\"><div class=\"sk-parallel-item\"><div class=\"sk-item\"><div class=\"sk-label-container\"><div class=\"sk-label sk-toggleable\"><input class=\"sk-toggleable__control sk-hidden--visually\" id=\"sk-estimator-id-7\" type=\"checkbox\" ><label for=\"sk-estimator-id-7\" class=\"sk-toggleable__label sk-toggleable__label-arrow\">estimator: DecisionTreeClassifier</label><div class=\"sk-toggleable__content\"><pre>DecisionTreeClassifier()</pre></div></div></div><div class=\"sk-serial\"><div class=\"sk-item\"><div class=\"sk-estimator sk-toggleable\"><input class=\"sk-toggleable__control sk-hidden--visually\" id=\"sk-estimator-id-8\" type=\"checkbox\" ><label for=\"sk-estimator-id-8\" class=\"sk-toggleable__label sk-toggleable__label-arrow\">DecisionTreeClassifier</label><div class=\"sk-toggleable__content\"><pre>DecisionTreeClassifier()</pre></div></div></div></div></div></div></div></div></div></div>"
      ],
      "text/plain": [
       "GridSearchCV(cv=10, estimator=DecisionTreeClassifier(), n_jobs=5,\n",
       "             param_grid={'max_depth': range(1, 10),\n",
       "                         'min_samples_leaf': range(1, 10)})"
      ]
     },
     "execution_count": 156,
     "metadata": {},
     "output_type": "execute_result"
    }
   ],
   "source": [
    "from sklearn.model_selection import GridSearchCV\n",
    "\n",
    "grid = GridSearchCV(clf, param_grid= param_dict , cv = 10 , n_jobs= 5 )\n",
    "grid.fit(X_train,y_train)"
   ]
  },
  {
   "cell_type": "code",
   "execution_count": 157,
   "id": "f9f00f6a",
   "metadata": {},
   "outputs": [
    {
     "data": {
      "text/plain": [
       "{'max_depth': 6, 'min_samples_leaf': 2}"
      ]
     },
     "execution_count": 157,
     "metadata": {},
     "output_type": "execute_result"
    }
   ],
   "source": [
    "grid.best_params_"
   ]
  },
  {
   "cell_type": "code",
   "execution_count": 158,
   "id": "87fe920a",
   "metadata": {},
   "outputs": [
    {
     "data": {
      "text/plain": [
       "0.8472222222222221"
      ]
     },
     "execution_count": 158,
     "metadata": {},
     "output_type": "execute_result"
    }
   ],
   "source": [
    "grid.best_score_"
   ]
  },
  {
   "cell_type": "code",
   "execution_count": 159,
   "id": "54990f07",
   "metadata": {},
   "outputs": [
    {
     "data": {
      "text/html": [
       "<style>#sk-container-id-7 {color: black;background-color: white;}#sk-container-id-7 pre{padding: 0;}#sk-container-id-7 div.sk-toggleable {background-color: white;}#sk-container-id-7 label.sk-toggleable__label {cursor: pointer;display: block;width: 100%;margin-bottom: 0;padding: 0.3em;box-sizing: border-box;text-align: center;}#sk-container-id-7 label.sk-toggleable__label-arrow:before {content: \"▸\";float: left;margin-right: 0.25em;color: #696969;}#sk-container-id-7 label.sk-toggleable__label-arrow:hover:before {color: black;}#sk-container-id-7 div.sk-estimator:hover label.sk-toggleable__label-arrow:before {color: black;}#sk-container-id-7 div.sk-toggleable__content {max-height: 0;max-width: 0;overflow: hidden;text-align: left;background-color: #f0f8ff;}#sk-container-id-7 div.sk-toggleable__content pre {margin: 0.2em;color: black;border-radius: 0.25em;background-color: #f0f8ff;}#sk-container-id-7 input.sk-toggleable__control:checked~div.sk-toggleable__content {max-height: 200px;max-width: 100%;overflow: auto;}#sk-container-id-7 input.sk-toggleable__control:checked~label.sk-toggleable__label-arrow:before {content: \"▾\";}#sk-container-id-7 div.sk-estimator input.sk-toggleable__control:checked~label.sk-toggleable__label {background-color: #d4ebff;}#sk-container-id-7 div.sk-label input.sk-toggleable__control:checked~label.sk-toggleable__label {background-color: #d4ebff;}#sk-container-id-7 input.sk-hidden--visually {border: 0;clip: rect(1px 1px 1px 1px);clip: rect(1px, 1px, 1px, 1px);height: 1px;margin: -1px;overflow: hidden;padding: 0;position: absolute;width: 1px;}#sk-container-id-7 div.sk-estimator {font-family: monospace;background-color: #f0f8ff;border: 1px dotted black;border-radius: 0.25em;box-sizing: border-box;margin-bottom: 0.5em;}#sk-container-id-7 div.sk-estimator:hover {background-color: #d4ebff;}#sk-container-id-7 div.sk-parallel-item::after {content: \"\";width: 100%;border-bottom: 1px solid gray;flex-grow: 1;}#sk-container-id-7 div.sk-label:hover label.sk-toggleable__label {background-color: #d4ebff;}#sk-container-id-7 div.sk-serial::before {content: \"\";position: absolute;border-left: 1px solid gray;box-sizing: border-box;top: 0;bottom: 0;left: 50%;z-index: 0;}#sk-container-id-7 div.sk-serial {display: flex;flex-direction: column;align-items: center;background-color: white;padding-right: 0.2em;padding-left: 0.2em;position: relative;}#sk-container-id-7 div.sk-item {position: relative;z-index: 1;}#sk-container-id-7 div.sk-parallel {display: flex;align-items: stretch;justify-content: center;background-color: white;position: relative;}#sk-container-id-7 div.sk-item::before, #sk-container-id-7 div.sk-parallel-item::before {content: \"\";position: absolute;border-left: 1px solid gray;box-sizing: border-box;top: 0;bottom: 0;left: 50%;z-index: -1;}#sk-container-id-7 div.sk-parallel-item {display: flex;flex-direction: column;z-index: 1;position: relative;background-color: white;}#sk-container-id-7 div.sk-parallel-item:first-child::after {align-self: flex-end;width: 50%;}#sk-container-id-7 div.sk-parallel-item:last-child::after {align-self: flex-start;width: 50%;}#sk-container-id-7 div.sk-parallel-item:only-child::after {width: 0;}#sk-container-id-7 div.sk-dashed-wrapped {border: 1px dashed gray;margin: 0 0.4em 0.5em 0.4em;box-sizing: border-box;padding-bottom: 0.4em;background-color: white;}#sk-container-id-7 div.sk-label label {font-family: monospace;font-weight: bold;display: inline-block;line-height: 1.2em;}#sk-container-id-7 div.sk-label-container {text-align: center;}#sk-container-id-7 div.sk-container {/* jupyter's `normalize.less` sets `[hidden] { display: none; }` but bootstrap.min.css set `[hidden] { display: none !important; }` so we also need the `!important` here to be able to override the default hidden behavior on the sphinx rendered scikit-learn.org. See: https://github.com/scikit-learn/scikit-learn/issues/21755 */display: inline-block !important;position: relative;}#sk-container-id-7 div.sk-text-repr-fallback {display: none;}</style><div id=\"sk-container-id-7\" class=\"sk-top-container\"><div class=\"sk-text-repr-fallback\"><pre>DecisionTreeClassifier(max_depth=6, min_samples_leaf=2)</pre><b>In a Jupyter environment, please rerun this cell to show the HTML representation or trust the notebook. <br />On GitHub, the HTML representation is unable to render, please try loading this page with nbviewer.org.</b></div><div class=\"sk-container\" hidden><div class=\"sk-item\"><div class=\"sk-estimator sk-toggleable\"><input class=\"sk-toggleable__control sk-hidden--visually\" id=\"sk-estimator-id-9\" type=\"checkbox\" checked><label for=\"sk-estimator-id-9\" class=\"sk-toggleable__label sk-toggleable__label-arrow\">DecisionTreeClassifier</label><div class=\"sk-toggleable__content\"><pre>DecisionTreeClassifier(max_depth=6, min_samples_leaf=2)</pre></div></div></div></div></div>"
      ],
      "text/plain": [
       "DecisionTreeClassifier(max_depth=6, min_samples_leaf=2)"
      ]
     },
     "execution_count": 159,
     "metadata": {},
     "output_type": "execute_result"
    }
   ],
   "source": [
    "grid.best_estimator_"
   ]
  },
  {
   "cell_type": "code",
   "execution_count": 162,
   "id": "5e968b4d",
   "metadata": {},
   "outputs": [
    {
     "data": {
      "text/html": [
       "<style>#sk-container-id-8 {color: black;background-color: white;}#sk-container-id-8 pre{padding: 0;}#sk-container-id-8 div.sk-toggleable {background-color: white;}#sk-container-id-8 label.sk-toggleable__label {cursor: pointer;display: block;width: 100%;margin-bottom: 0;padding: 0.3em;box-sizing: border-box;text-align: center;}#sk-container-id-8 label.sk-toggleable__label-arrow:before {content: \"▸\";float: left;margin-right: 0.25em;color: #696969;}#sk-container-id-8 label.sk-toggleable__label-arrow:hover:before {color: black;}#sk-container-id-8 div.sk-estimator:hover label.sk-toggleable__label-arrow:before {color: black;}#sk-container-id-8 div.sk-toggleable__content {max-height: 0;max-width: 0;overflow: hidden;text-align: left;background-color: #f0f8ff;}#sk-container-id-8 div.sk-toggleable__content pre {margin: 0.2em;color: black;border-radius: 0.25em;background-color: #f0f8ff;}#sk-container-id-8 input.sk-toggleable__control:checked~div.sk-toggleable__content {max-height: 200px;max-width: 100%;overflow: auto;}#sk-container-id-8 input.sk-toggleable__control:checked~label.sk-toggleable__label-arrow:before {content: \"▾\";}#sk-container-id-8 div.sk-estimator input.sk-toggleable__control:checked~label.sk-toggleable__label {background-color: #d4ebff;}#sk-container-id-8 div.sk-label input.sk-toggleable__control:checked~label.sk-toggleable__label {background-color: #d4ebff;}#sk-container-id-8 input.sk-hidden--visually {border: 0;clip: rect(1px 1px 1px 1px);clip: rect(1px, 1px, 1px, 1px);height: 1px;margin: -1px;overflow: hidden;padding: 0;position: absolute;width: 1px;}#sk-container-id-8 div.sk-estimator {font-family: monospace;background-color: #f0f8ff;border: 1px dotted black;border-radius: 0.25em;box-sizing: border-box;margin-bottom: 0.5em;}#sk-container-id-8 div.sk-estimator:hover {background-color: #d4ebff;}#sk-container-id-8 div.sk-parallel-item::after {content: \"\";width: 100%;border-bottom: 1px solid gray;flex-grow: 1;}#sk-container-id-8 div.sk-label:hover label.sk-toggleable__label {background-color: #d4ebff;}#sk-container-id-8 div.sk-serial::before {content: \"\";position: absolute;border-left: 1px solid gray;box-sizing: border-box;top: 0;bottom: 0;left: 50%;z-index: 0;}#sk-container-id-8 div.sk-serial {display: flex;flex-direction: column;align-items: center;background-color: white;padding-right: 0.2em;padding-left: 0.2em;position: relative;}#sk-container-id-8 div.sk-item {position: relative;z-index: 1;}#sk-container-id-8 div.sk-parallel {display: flex;align-items: stretch;justify-content: center;background-color: white;position: relative;}#sk-container-id-8 div.sk-item::before, #sk-container-id-8 div.sk-parallel-item::before {content: \"\";position: absolute;border-left: 1px solid gray;box-sizing: border-box;top: 0;bottom: 0;left: 50%;z-index: -1;}#sk-container-id-8 div.sk-parallel-item {display: flex;flex-direction: column;z-index: 1;position: relative;background-color: white;}#sk-container-id-8 div.sk-parallel-item:first-child::after {align-self: flex-end;width: 50%;}#sk-container-id-8 div.sk-parallel-item:last-child::after {align-self: flex-start;width: 50%;}#sk-container-id-8 div.sk-parallel-item:only-child::after {width: 0;}#sk-container-id-8 div.sk-dashed-wrapped {border: 1px dashed gray;margin: 0 0.4em 0.5em 0.4em;box-sizing: border-box;padding-bottom: 0.4em;background-color: white;}#sk-container-id-8 div.sk-label label {font-family: monospace;font-weight: bold;display: inline-block;line-height: 1.2em;}#sk-container-id-8 div.sk-label-container {text-align: center;}#sk-container-id-8 div.sk-container {/* jupyter's `normalize.less` sets `[hidden] { display: none; }` but bootstrap.min.css set `[hidden] { display: none !important; }` so we also need the `!important` here to be able to override the default hidden behavior on the sphinx rendered scikit-learn.org. See: https://github.com/scikit-learn/scikit-learn/issues/21755 */display: inline-block !important;position: relative;}#sk-container-id-8 div.sk-text-repr-fallback {display: none;}</style><div id=\"sk-container-id-8\" class=\"sk-top-container\"><div class=\"sk-text-repr-fallback\"><pre>DecisionTreeClassifier(max_depth=6, min_samples_leaf=2)</pre><b>In a Jupyter environment, please rerun this cell to show the HTML representation or trust the notebook. <br />On GitHub, the HTML representation is unable to render, please try loading this page with nbviewer.org.</b></div><div class=\"sk-container\" hidden><div class=\"sk-item\"><div class=\"sk-estimator sk-toggleable\"><input class=\"sk-toggleable__control sk-hidden--visually\" id=\"sk-estimator-id-10\" type=\"checkbox\" checked><label for=\"sk-estimator-id-10\" class=\"sk-toggleable__label sk-toggleable__label-arrow\">DecisionTreeClassifier</label><div class=\"sk-toggleable__content\"><pre>DecisionTreeClassifier(max_depth=6, min_samples_leaf=2)</pre></div></div></div></div></div>"
      ],
      "text/plain": [
       "DecisionTreeClassifier(max_depth=6, min_samples_leaf=2)"
      ]
     },
     "execution_count": 162,
     "metadata": {},
     "output_type": "execute_result"
    }
   ],
   "source": [
    "clf3 = tree.DecisionTreeClassifier(max_depth=6, min_samples_leaf=2)\n",
    "clf3.fit(X_train, y_train)"
   ]
  },
  {
   "cell_type": "code",
   "execution_count": 164,
   "id": "5c85264c",
   "metadata": {},
   "outputs": [
    {
     "data": {
      "text/plain": [
       "[Text(0.25, 0.9285714285714286, 'X[3] <= 3.0\\ngini = 0.441\\nsamples = 86\\nvalue = [61, 20, 1, 4]'),\n",
       " Text(0.19117647058823528, 0.7857142857142857, 'gini = 0.0\\nsamples = 27\\nvalue = [27, 0, 0, 0]'),\n",
       " Text(0.3088235294117647, 0.7857142857142857, 'X[5] <= 1.5\\ngini = 0.548\\nsamples = 59\\nvalue = [34, 20, 1, 4]'),\n",
       " Text(0.25, 0.6428571428571429, 'gini = 0.0\\nsamples = 19\\nvalue = [19, 0, 0, 0]'),\n",
       " Text(0.36764705882352944, 0.6428571428571429, 'X[0] <= 1.5\\ngini = 0.599\\nsamples = 40\\nvalue = [15, 20, 1, 4]'),\n",
       " Text(0.17647058823529413, 0.5, 'X[1] <= 3.5\\ngini = 0.5\\nsamples = 8\\nvalue = [0, 4, 0, 4]'),\n",
       " Text(0.11764705882352941, 0.35714285714285715, 'X[5] <= 2.5\\ngini = 0.444\\nsamples = 6\\nvalue = [0, 2, 0, 4]'),\n",
       " Text(0.058823529411764705, 0.21428571428571427, 'gini = 0.0\\nsamples = 2\\nvalue = [0, 2, 0, 0]'),\n",
       " Text(0.17647058823529413, 0.21428571428571427, 'gini = 0.0\\nsamples = 4\\nvalue = [0, 0, 0, 4]'),\n",
       " Text(0.23529411764705882, 0.35714285714285715, 'gini = 0.0\\nsamples = 2\\nvalue = [0, 2, 0, 0]'),\n",
       " Text(0.5588235294117647, 0.5, 'X[1] <= 2.5\\ngini = 0.529\\nsamples = 32\\nvalue = [15, 16, 1, 0]'),\n",
       " Text(0.35294117647058826, 0.35714285714285715, 'X[2] <= 2.5\\ngini = 0.461\\nsamples = 16\\nvalue = [4, 11, 1, 0]'),\n",
       " Text(0.29411764705882354, 0.21428571428571427, 'gini = 0.444\\nsamples = 3\\nvalue = [2, 0, 1, 0]'),\n",
       " Text(0.4117647058823529, 0.21428571428571427, 'X[4] <= 1.5\\ngini = 0.26\\nsamples = 13\\nvalue = [2, 11, 0, 0]'),\n",
       " Text(0.35294117647058826, 0.07142857142857142, 'gini = 0.444\\nsamples = 6\\nvalue = [2, 4, 0, 0]'),\n",
       " Text(0.47058823529411764, 0.07142857142857142, 'gini = 0.0\\nsamples = 7\\nvalue = [0, 7, 0, 0]'),\n",
       " Text(0.7647058823529411, 0.35714285714285715, 'X[0] <= 2.5\\ngini = 0.43\\nsamples = 16\\nvalue = [11, 5, 0, 0]'),\n",
       " Text(0.6470588235294118, 0.21428571428571427, 'X[4] <= 1.5\\ngini = 0.32\\nsamples = 5\\nvalue = [1, 4, 0, 0]'),\n",
       " Text(0.5882352941176471, 0.07142857142857142, 'gini = 0.5\\nsamples = 2\\nvalue = [1, 1, 0, 0]'),\n",
       " Text(0.7058823529411765, 0.07142857142857142, 'gini = 0.0\\nsamples = 3\\nvalue = [0, 3, 0, 0]'),\n",
       " Text(0.8823529411764706, 0.21428571428571427, 'X[2] <= 4.5\\ngini = 0.165\\nsamples = 11\\nvalue = [10, 1, 0, 0]'),\n",
       " Text(0.8235294117647058, 0.07142857142857142, 'gini = 0.0\\nsamples = 6\\nvalue = [6, 0, 0, 0]'),\n",
       " Text(0.9411764705882353, 0.07142857142857142, 'gini = 0.32\\nsamples = 5\\nvalue = [4, 1, 0, 0]')]"
      ]
     },
     "execution_count": 164,
     "metadata": {},
     "output_type": "execute_result"
    },
    {
     "data": {
      "image/png": "[encoded data removed]",
      "text/plain": [
       "<Figure size 640x480 with 1 Axes>"
      ]
     },
     "metadata": {},
     "output_type": "display_data"
    }
   ],
   "source": [
    "tree.plot_tree(clf3, filled=True)"
   ]
  },
  {
   "cell_type": "code",
   "execution_count": 165,
   "id": "fd15fd7f",
   "metadata": {},
   "outputs": [
    {
     "data": {
      "text/plain": [
       "0.8531383302864107"
      ]
     },
     "execution_count": 165,
     "metadata": {},
     "output_type": "execute_result"
    }
   ],
   "source": [
    "clf3.score(X_test, y_test)"
   ]
  },
  {
   "cell_type": "markdown",
   "id": "910bd748",
   "metadata": {},
   "source": [
    "# III/ Affichage de la surface de décision\n",
    "Pour une paire d’attributs, c’est-à-dire pour des observations en deux dimensions, \n",
    "nous  pouvons  visualiser  la  surface  de  décision  en  2  dimensions.  D’abord  on \n",
    "discrétise le domaine bidimensionnel avec un pas constant et ensuite on évalue le \n",
    "modèle sur chaque point de la grille. \n",
    "Dans cet exemple, nous ne gardons que la longueur et la largeur des pétales."
   ]
  },
  {
   "cell_type": "code",
   "execution_count": 237,
   "id": "4d12e866",
   "metadata": {},
   "outputs": [
    {
     "data": {
      "image/png": "[encoded data removed]",
      "text/plain": [
       "<Figure size 640x480 with 6 Axes>"
      ]
     },
     "metadata": {},
     "output_type": "display_data"
    }
   ],
   "source": [
    "import numpy as np\n",
    "import matplotlib.pyplot as plt\n",
    "\n",
    "from sklearn.datasets import load_iris\n",
    "from sklearn.tree import DecisionTreeClassifier\n",
    "from sklearn.inspection import DecisionBoundaryDisplay\n",
    "\n",
    "\n",
    "# Parameters\n",
    "n_classes = 4\n",
    "plot_colors = \"ybrg\"\n",
    "plot_step = 0.02\n",
    "tab= ['unacc', 'acc', 'good', 'vgood']\n",
    "\n",
    "for pairidx, pair in enumerate([[0, 1], [0, 2], [0, 3], [1, 2], [1, 3],[2, 3]]):\n",
    "    # We only take the two corresponding features\n",
    "    X = car_data.values[:, pair]\n",
    "    y = car_target.values\n",
    "\n",
    "    # Train\n",
    "    clf = DecisionTreeClassifier().fit(X, y)\n",
    "\n",
    "# Plot the decision boundary\n",
    "    ax = plt.subplot(2, 3, pairidx + 1)\n",
    "    plt.tight_layout(h_pad=0.5, w_pad=0.5, pad=2.5)\n",
    "    DecisionBoundaryDisplay.from_estimator(\n",
    "        clf,\n",
    "        X,\n",
    "        cmap=plt.cm.RdYlBu,\n",
    "        response_method=\"predict\",\n",
    "        ax=ax,\n",
    "        xlabel=car_data.columns[pair[0]],\n",
    "        ylabel=car_data.columns[pair[1]],\n",
    "    )\n",
    "\n",
    "    # Plot the training points\n",
    "    for i, color in zip(range(n_classes), plot_colors):\n",
    "        idx = np.where(y == i)\n",
    "        plt.scatter(\n",
    "            X[idx, 0],\n",
    "            X[idx, 1],\n",
    "            c=color,\n",
    "            label=tab[i],\n",
    "            cmap=plt.cm.RdYlBu,\n",
    "            edgecolor=\"black\",\n",
    "            s=15,\n",
    "        )\n",
    "\n",
    "plt.suptitle(\"Decision surface of decision trees trained on pairs of features\")\n",
    "plt.legend(loc=\"lower right\", borderpad=0, handletextpad=0)\n",
    "_ = plt.axis(\"tight\")\n"
   ]
  }
 ],
 "metadata": {
  "kernelspec": {
   "display_name": "Python 3 (ipykernel)",
   "language": "python",
   "name": "python3"
  },
  "language_info": {
   "codemirror_mode": {
    "name": "ipython",
    "version": 3
   },
   "file_extension": ".py",
   "mimetype": "text/x-python",
   "name": "python",
   "nbconvert_exporter": "python",
   "pygments_lexer": "ipython3",
   "version": "3.10.4"
  }
 },
 "nbformat": 4,
 "nbformat_minor": 5
}
